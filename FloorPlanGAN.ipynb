{
 "cells": [
  {
   "cell_type": "markdown",
   "metadata": {},
   "source": [
    "# 1. 加载数据"
   ]
  },
  {
   "cell_type": "code",
   "execution_count": 3,
   "metadata": {
    "ExecuteTime": {
     "end_time": "2020-08-26T08:13:06.756954Z",
     "start_time": "2020-08-26T08:13:06.138595Z"
    }
   },
   "outputs": [
    {
     "ename": "ModuleNotFoundError",
     "evalue": "No module named 'tensorboardX'",
     "output_type": "error",
     "traceback": [
      "\u001b[0;31m---------------------------------------------------------------------------\u001b[0m",
      "\u001b[0;31mModuleNotFoundError\u001b[0m                       Traceback (most recent call last)",
      "\u001b[0;32m/tmp/ipykernel_32276/3928963349.py\u001b[0m in \u001b[0;36m<module>\u001b[0;34m\u001b[0m\n\u001b[1;32m     22\u001b[0m \u001b[0;32mimport\u001b[0m \u001b[0mtorch\u001b[0m\u001b[0;34m.\u001b[0m\u001b[0moptim\u001b[0m \u001b[0;32mas\u001b[0m \u001b[0moptim\u001b[0m\u001b[0;34m\u001b[0m\u001b[0;34m\u001b[0m\u001b[0m\n\u001b[1;32m     23\u001b[0m \u001b[0;32mfrom\u001b[0m \u001b[0mtorch\u001b[0m\u001b[0;34m.\u001b[0m\u001b[0mutils\u001b[0m\u001b[0;34m.\u001b[0m\u001b[0mdata\u001b[0m \u001b[0;32mimport\u001b[0m \u001b[0mDataLoader\u001b[0m\u001b[0;34m\u001b[0m\u001b[0;34m\u001b[0m\u001b[0m\n\u001b[0;32m---> 24\u001b[0;31m \u001b[0;32mfrom\u001b[0m \u001b[0mtensorboardX\u001b[0m \u001b[0;32mimport\u001b[0m \u001b[0mSummaryWriter\u001b[0m\u001b[0;34m\u001b[0m\u001b[0;34m\u001b[0m\u001b[0m\n\u001b[0m",
      "\u001b[0;31mModuleNotFoundError\u001b[0m: No module named 'tensorboardX'"
     ]
    }
   ],
   "source": [
    "import scipy \n",
    "import os\n",
    "import socket\n",
    "import pickle\n",
    "import numpy as np\n",
    "import pandas as pd\n",
    "from matplotlib import pyplot as plt\n",
    "from datetime import datetime\n",
    "import time\n",
    "from tqdm import tqdm\n",
    "from imp import reload\n",
    "\n",
    "from dataset import generate_random_layout, wireframeDataset_Rplan\n",
    "from models import Generator, WireframeDiscriminator, weight_init\n",
    "import utils\n",
    "reload(utils)\n",
    "from utils import get_figure,draw_table,bounds_check\n",
    "\n",
    "import torch\n",
    "import torch.nn as nn\n",
    "import torch.nn.functional as F\n",
    "import torch.optim as optim\n",
    "from torch.utils.data import DataLoader\n",
    "from tensorboardX import SummaryWriter"
   ]
  },
  {
   "cell_type": "code",
   "execution_count": 3,
   "metadata": {
    "scrolled": true
   },
   "outputs": [
    {
     "data": {
      "text/plain": [
       "'1.6.0'"
      ]
     },
     "execution_count": 3,
     "metadata": {},
     "output_type": "execute_result"
    }
   ],
   "source": [
    "torch.__version__"
   ]
  },
  {
   "cell_type": "code",
   "execution_count": 35,
   "metadata": {
    "ExecuteTime": {
     "end_time": "2020-08-26T08:13:06.769919Z",
     "start_time": "2020-08-26T08:13:06.758930Z"
    }
   },
   "outputs": [
    {
     "data": {
      "text/plain": [
       "CfgNode({'SYSTEM': CfgNode({'NUM_GPUS': 2, 'NUM_WORKERS': 4, 'HOSTNAMES': ['ubuntuStation', 'DESKTOP-HRFSC59', 'Work-Station', 'LAPTOP-LUOZN', 'DESKTOP-57EV4E4']}), 'DATASET': CfgNode({'NAME': 'rplan', 'SUBSET': 'names_0-1_1-1_2-1_3-1_4-0_5-0_6-0_7-1_8-0_9-1.pkl', 'BATCHSIZE': 128}), 'MODEL': CfgNode({'GENERATOR': CfgNode({}), 'RENDERER': CfgNode({'RENDERING_SIZE': 64}), 'DISCRIMINATOR': CfgNode({})}), 'TRAIN': CfgNode({'LEARNING_RATE': 2e-05, 'NUM_EPOCHS': 3000}), 'TENSORBOARD': CfgNode({'SAVE_INTERVAL': 100}), 'PATH': CfgNode({'RPLAN': ['../../data_RPLAN/pkls', 'D:\\\\luozn\\\\data_RPLAN\\\\pkls', 'F:\\\\luozn\\\\data_RPLAN\\\\pkls', 'E:\\\\Seafile\\\\data_RPLAN\\\\pkls', 'E:\\\\Seafile\\\\data_RPLAN\\\\pkls'], 'Z_FILE': 'fixed_z/fixed_xywh_rplan_1030.pkl', 'LOG_DIR': 'runs_rplan'}), 'MANUAL': CfgNode({'HOSTNAME': 'Work-Station', 'RPLAN_PATH': 'F:\\\\luozn\\\\data_RPLAN\\\\pkls', 'DEVICE': 'cuda:0', 'DATE': '2021-10-30', 'TIME': '20-40-11'})})"
      ]
     },
     "execution_count": 35,
     "metadata": {},
     "output_type": "execute_result"
    }
   ],
   "source": [
    "import main\n",
    "reload(main)\n",
    "from main import setup\n",
    "cfg = setup(None)\n",
    "device = torch.device(cfg.MANUAL.DEVICE)\n",
    "date = cfg.MANUAL.DATE\n",
    "time_ = cfg.MANUAL.TIME\n",
    "cfg.merge_from_file(\"config.yaml\")\n",
    "cfg"
   ]
  },
  {
   "cell_type": "markdown",
   "metadata": {},
   "source": [
    "# 2. LayoutGAN模型"
   ]
  },
  {
   "cell_type": "markdown",
   "metadata": {},
   "source": [
    "### 2.1 dataset"
   ]
  },
  {
   "cell_type": "code",
   "execution_count": 5,
   "metadata": {
    "scrolled": true
   },
   "outputs": [
    {
     "name": "stdout",
     "output_type": "stream",
     "text": [
      "using dataset:\trplan\n",
      "hostname:\tWork-Station\n",
      "date:\t\t2021-10-30\n"
     ]
    }
   ],
   "source": [
    "print('using dataset:\\t{}'.format(cfg.DATASET.NAME))\n",
    "print('hostname:\\t{}'.format(cfg.MANUAL.HOSTNAME))\n",
    "print('date:\\t\\t{}'.format(cfg.MANUAL.DATE))"
   ]
  },
  {
   "cell_type": "code",
   "execution_count": 6,
   "metadata": {
    "ExecuteTime": {
     "end_time": "2020-08-26T08:13:09.788830Z",
     "start_time": "2020-08-26T08:13:09.265366Z"
    }
   },
   "outputs": [
    {
     "name": "stderr",
     "output_type": "stream",
     "text": [
      "100%|██████████| 19154/19154 [00:02<00:00, 6904.46it/s]\n",
      "100%|██████████| 19154/19154 [00:00<00:00, 32831.51it/s]\n"
     ]
    }
   ],
   "source": [
    "import dataset\n",
    "reload(dataset)\n",
    "from dataset import generate_random_layout, wireframeDataset_Rplan\n",
    "\n",
    "real_dataset = wireframeDataset_Rplan(cfg)\n",
    "checkpoint = './params/params_rplan_{0}.pkl'.format(date)\n",
    "log_dir = cfg.PATH.LOG_DIR\n",
    "batch_size = cfg.DATASET.BATCHSIZE\n",
    "real_dataloader = DataLoader(real_dataset,batch_size,shuffle=True,num_workers=0,drop_last=True)"
   ]
  },
  {
   "cell_type": "code",
   "execution_count": 7,
   "metadata": {
    "scrolled": true
   },
   "outputs": [
    {
     "data": {
      "image/png": "[encoded data removed]",
      "text/plain": [
       "<Figure size 864x360 with 8 Axes>"
      ]
     },
     "metadata": {
      "needs_background": "light"
     },
     "output_type": "display_data"
    }
   ],
   "source": [
    "fake_images = generate_random_layout(real_dataset,batch_size=8)\n",
    "plt.figure(figsize=(12,5))\n",
    "for i in range(fake_images[0].shape[0]):\n",
    "    plt.subplot(1,fake_images[0].shape[0],i+1)\n",
    "    plt.imshow(fake_images[0][i,:,:-4])\n",
    "plt.show()\n",
    "#fake_images[0][0,:,:-4]"
   ]
  },
  {
   "cell_type": "code",
   "execution_count": 8,
   "metadata": {
    "ExecuteTime": {
     "end_time": "2020-08-26T08:13:11.453130Z",
     "start_time": "2020-08-26T08:13:09.789828Z"
    }
   },
   "outputs": [],
   "source": [
    "#固定的随机layout\n",
    "#fixed_z_file = './fixed_z/fixed_xyaw_{0}_{1}.pkl'.format(dataset,'_'.join([str(r) for r in rooms]))\n",
    "fixed_z_file = cfg.PATH.Z_FILE\n",
    "if not os.path.exists(fixed_z_file):\n",
    "    fixed = generate_random_layout(real_dataset, 8)\n",
    "    #fixed_images = [torch.tensor(x).to(device) for x in fixed]\n",
    "    with open(fixed_z_file, 'wb') as output:\n",
    "        pickle.dump(fixed,output)\n",
    "    print('generating'+ fixed_z_file)"
   ]
  },
  {
   "cell_type": "code",
   "execution_count": 9,
   "metadata": {},
   "outputs": [
    {
     "data": {
      "text/plain": [
       "torch.Size([8, 6, 10])"
      ]
     },
     "execution_count": 9,
     "metadata": {},
     "output_type": "execute_result"
    }
   ],
   "source": [
    "with open(fixed_z_file, 'rb') as pkl_file:\n",
    "    fixed_z = pickle.load(pkl_file)\n",
    "fixed_z = [torch.tensor(x).to(device) for x in fixed_z]\n",
    "fixed_z[0].shape"
   ]
  },
  {
   "cell_type": "markdown",
   "metadata": {},
   "source": [
    "### 2.3 初始化"
   ]
  },
  {
   "cell_type": "code",
   "execution_count": 13,
   "metadata": {
    "ExecuteTime": {
     "end_time": "2020-08-26T08:13:11.625953Z",
     "start_time": "2020-08-26T08:13:11.463120Z"
    }
   },
   "outputs": [
    {
     "name": "stdout",
     "output_type": "stream",
     "text": [
      "create_new_model\n"
     ]
    }
   ],
   "source": [
    "######################################################\n",
    "learning_rate = cfg.TRAIN.LEARNING_RATE\n",
    "num_epochs = cfg.TRAIN.NUM_EPOCHS\n",
    "tensorboard_interval = cfg.TENSORBOARD.SAVE_INTERVAL\n",
    "tensorboard = True\n",
    "discriminator_losses=[]\n",
    "generator_losses=[]\n",
    "boundray_losses=[]\n",
    "gradient_penalties = []\n",
    "######################################################\n",
    "\n",
    "import models\n",
    "reload(models)\n",
    "from models import Generator, WireframeDiscriminator, weight_init, renderer_g2v\n",
    "\n",
    "renderer = renderer_g2v(\n",
    "    render_size=cfg.MODEL.RENDERER.RENDERING_SIZE, \n",
    "    class_num=real_dataset.enc_len\n",
    "    )\n",
    "\n",
    "generator = Generator(dataset=real_dataset)\n",
    "generator.apply(weight_init)\n",
    "generator = nn.DataParallel(generator)\n",
    "generator.to(device)\n",
    "\n",
    "discriminator = WireframeDiscriminator(dataset=real_dataset, renderer=renderer)\n",
    "discriminator.apply(weight_init)\n",
    "discriminator = nn.DataParallel(discriminator)\n",
    "discriminator.to(device)\n",
    "\n",
    "\n",
    "#Initialize optimizers.\n",
    "generator_optimizer = optim.Adam(generator.parameters(), learning_rate)\n",
    "discriminator_optimizer = optim.Adam(discriminator.parameters(), learning_rate)#Wasserstein GAN推荐使用RMSProp优化\n",
    "\n",
    "if os.path.exists(checkpoint):\n",
    "    checkpoint = torch.load(checkpoint)\n",
    "    generator.load_state_dict(checkpoint['generator_state_dict'])\n",
    "    generator_optimizer.load_state_dict(checkpoint['generator_optimizer_state_dict'])\n",
    "    discriminator.load_state_dict(checkpoint['discriminator_state_dict'])\n",
    "    discriminator_optimizer.load_state_dict(checkpoint['discriminator_optimizer_state_dict'])\n",
    "    epoch_last = checkpoint['epoch']\n",
    "    n_iter = checkpoint['n_iter']\n",
    "    print('load_previous_model')\n",
    "else:\n",
    "    epoch_last = 0\n",
    "    # global step\n",
    "    n_iter = -1\n",
    "    print('create_new_model')"
   ]
  },
  {
   "cell_type": "code",
   "execution_count": 14,
   "metadata": {},
   "outputs": [
    {
     "name": "stdout",
     "output_type": "stream",
     "text": [
      "amount of parameters in generator:\t 151585295\n",
      "amount of parameters in discriminator:\t 17814785\n"
     ]
    }
   ],
   "source": [
    "print('amount of parameters in generator:\\t',sum(p.numel() for p in generator.parameters() if p.requires_grad))\n",
    "print('amount of parameters in discriminator:\\t',sum(p.numel() for p in discriminator.parameters() if p.requires_grad))"
   ]
  },
  {
   "cell_type": "markdown",
   "metadata": {},
   "source": [
    "### 检查rasterazition"
   ]
  },
  {
   "cell_type": "code",
   "execution_count": 15,
   "metadata": {},
   "outputs": [
    {
     "data": {
      "text/plain": [
       "[tensor([[[1.0000, 0.0000, 0.0000,  ..., 0.5254, 0.2930, 0.4648],\n",
       "          [0.0000, 1.0000, 0.0000,  ..., 0.7246, 0.1797, 0.2383],\n",
       "          [0.0000, 0.0000, 1.0000,  ..., 0.2207, 0.1562, 0.1211],\n",
       "          [0.0000, 0.0000, 0.0000,  ..., 0.5254, 0.1055, 0.1367],\n",
       "          [0.0000, 0.0000, 0.0000,  ..., 0.3242, 0.1797, 0.2422],\n",
       "          [0.0000, 0.0000, 0.0000,  ..., 0.8066, 0.2188, 0.0742]],\n",
       " \n",
       "         [[1.0000, 0.0000, 0.0000,  ..., 0.4551, 0.4297, 0.4414],\n",
       "          [0.0000, 1.0000, 0.0000,  ..., 0.5996, 0.1914, 0.2383],\n",
       "          [0.0000, 0.0000, 1.0000,  ..., 0.3164, 0.1016, 0.1641],\n",
       "          [0.0000, 0.0000, 0.0000,  ..., 0.3867, 0.1016, 0.1641],\n",
       "          [0.0000, 0.0000, 0.0000,  ..., 0.6055, 0.1328, 0.2266],\n",
       "          [0.0000, 0.0000, 0.0000,  ..., 0.7285, 0.1953, 0.0820]],\n",
       " \n",
       "         [[1.0000, 0.0000, 0.0000,  ..., 0.4961, 0.3594, 0.4531],\n",
       "          [0.0000, 1.0000, 0.0000,  ..., 0.6133, 0.2227, 0.2188],\n",
       "          [0.0000, 0.0000, 1.0000,  ..., 0.2734, 0.0938, 0.1328],\n",
       "          [0.0000, 0.0000, 0.0000,  ..., 0.4590, 0.0938, 0.0977],\n",
       "          [0.0000, 0.0000, 0.0000,  ..., 0.3262, 0.1562, 0.1445],\n",
       "          [0.0000, 0.0000, 0.0000,  ..., 0.7656, 0.2539, 0.0625]],\n",
       " \n",
       "         ...,\n",
       " \n",
       "         [[1.0000, 0.0000, 0.0000,  ..., 0.4824, 0.1875, 0.4570],\n",
       "          [0.0000, 1.0000, 0.0000,  ..., 0.5918, 0.1680, 0.2383],\n",
       "          [0.0000, 0.0000, 1.0000,  ..., 0.4121, 0.1680, 0.0977],\n",
       "          [0.0000, 0.0000, 0.0000,  ..., 0.2734, 0.1094, 0.1328],\n",
       "          [0.0000, 0.0000, 0.0000,  ..., 0.2793, 0.2422, 0.1445],\n",
       "          [0.0000, 0.0000, 0.0000,  ..., 0.7598, 0.1875, 0.0742]],\n",
       " \n",
       "         [[1.0000, 0.0000, 0.0000,  ..., 0.5020, 0.2539, 0.5508],\n",
       "          [0.0000, 1.0000, 0.0000,  ..., 0.6641, 0.1602, 0.2266],\n",
       "          [0.0000, 0.0000, 1.0000,  ..., 0.4863, 0.1602, 0.1055],\n",
       "          [0.0000, 0.0000, 0.0000,  ..., 0.3262, 0.0859, 0.1992],\n",
       "          [0.0000, 0.0000, 0.0000,  ..., 0.3297, 0.2070, 0.2063],\n",
       "          [0.0000, 0.0000, 0.0000,  ..., 0.4766, 0.0820, 0.0547]],\n",
       " \n",
       "         [[1.0000, 0.0000, 0.0000,  ..., 0.4492, 0.4922, 0.4062],\n",
       "          [0.0000, 1.0000, 0.0000,  ..., 0.5117, 0.1875, 0.2812],\n",
       "          [0.0000, 0.0000, 1.0000,  ..., 0.5605, 0.1016, 0.1836],\n",
       "          [0.0000, 0.0000, 0.0000,  ..., 0.3145, 0.1562, 0.0898],\n",
       "          [0.0000, 0.0000, 0.0000,  ..., 0.5469, 0.1562, 0.2109],\n",
       "          [0.0000, 0.0000, 0.0000,  ..., 0.7109, 0.2109, 0.0938]]],\n",
       "        device='cuda:0'),\n",
       " tensor([[False, False, False, False, False, False],\n",
       "         [False, False, False, False, False, False],\n",
       "         [False, False, False, False, False, False],\n",
       "         [False, False, False, False, False, False],\n",
       "         [False, False, False, False, False, False],\n",
       "         [False, False, False, False, False, False],\n",
       "         [False, False, False, False, False, False],\n",
       "         [False, False, False, False, False, False],\n",
       "         [False, False, False, False, False, False],\n",
       "         [False, False, False, False, False, False],\n",
       "         [False, False, False, False, False, False],\n",
       "         [False, False, False, False, False, False],\n",
       "         [False, False, False, False, False, False],\n",
       "         [False, False, False, False, False, False],\n",
       "         [False, False, False, False, False, False],\n",
       "         [False, False, False, False, False, False],\n",
       "         [False, False, False, False, False, False],\n",
       "         [False, False, False, False, False, False],\n",
       "         [False, False, False, False, False, False],\n",
       "         [False, False, False, False, False, False],\n",
       "         [False, False, False, False, False, False],\n",
       "         [False, False, False, False, False, False],\n",
       "         [False, False, False, False, False, False],\n",
       "         [False, False, False, False, False, False],\n",
       "         [False, False, False, False, False, False],\n",
       "         [False, False, False, False, False, False],\n",
       "         [False, False, False, False, False, False],\n",
       "         [False, False, False, False, False, False],\n",
       "         [False, False, False, False, False, False],\n",
       "         [False, False, False, False, False, False],\n",
       "         [False, False, False, False, False, False],\n",
       "         [False, False, False, False, False, False],\n",
       "         [False, False, False, False, False, False],\n",
       "         [False, False, False, False, False, False],\n",
       "         [False, False, False, False, False, False],\n",
       "         [False, False, False, False, False, False],\n",
       "         [False, False, False, False, False, False],\n",
       "         [False, False, False, False, False, False],\n",
       "         [False, False, False, False, False, False],\n",
       "         [False, False, False, False, False, False],\n",
       "         [False, False, False, False, False, False],\n",
       "         [False, False, False, False, False, False],\n",
       "         [False, False, False, False, False, False],\n",
       "         [False, False, False, False, False, False],\n",
       "         [False, False, False, False, False, False],\n",
       "         [False, False, False, False, False, False],\n",
       "         [False, False, False, False, False, False],\n",
       "         [False, False, False, False, False, False],\n",
       "         [False, False, False, False, False, False],\n",
       "         [False, False, False, False, False, False],\n",
       "         [False, False, False, False, False, False],\n",
       "         [False, False, False, False, False, False],\n",
       "         [False, False, False, False, False, False],\n",
       "         [False, False, False, False, False, False],\n",
       "         [False, False, False, False, False, False],\n",
       "         [False, False, False, False, False, False],\n",
       "         [False, False, False, False, False, False],\n",
       "         [False, False, False, False, False, False],\n",
       "         [False, False, False, False, False, False],\n",
       "         [False, False, False, False, False, False],\n",
       "         [False, False, False, False, False, False],\n",
       "         [False, False, False, False, False, False],\n",
       "         [False, False, False, False, False, False],\n",
       "         [False, False, False, False, False, False],\n",
       "         [False, False, False, False, False, False],\n",
       "         [False, False, False, False, False, False],\n",
       "         [False, False, False, False, False, False],\n",
       "         [False, False, False, False, False, False],\n",
       "         [False, False, False, False, False, False],\n",
       "         [False, False, False, False, False, False],\n",
       "         [False, False, False, False, False, False],\n",
       "         [False, False, False, False, False, False],\n",
       "         [False, False, False, False, False, False],\n",
       "         [False, False, False, False, False, False],\n",
       "         [False, False, False, False, False, False],\n",
       "         [False, False, False, False, False, False],\n",
       "         [False, False, False, False, False, False],\n",
       "         [False, False, False, False, False, False],\n",
       "         [False, False, False, False, False, False],\n",
       "         [False, False, False, False, False, False],\n",
       "         [False, False, False, False, False, False],\n",
       "         [False, False, False, False, False, False],\n",
       "         [False, False, False, False, False, False],\n",
       "         [False, False, False, False, False, False],\n",
       "         [False, False, False, False, False, False],\n",
       "         [False, False, False, False, False, False],\n",
       "         [False, False, False, False, False, False],\n",
       "         [False, False, False, False, False, False],\n",
       "         [False, False, False, False, False, False],\n",
       "         [False, False, False, False, False, False],\n",
       "         [False, False, False, False, False, False],\n",
       "         [False, False, False, False, False, False],\n",
       "         [False, False, False, False, False, False],\n",
       "         [False, False, False, False, False, False],\n",
       "         [False, False, False, False, False, False],\n",
       "         [False, False, False, False, False, False],\n",
       "         [False, False, False, False, False, False],\n",
       "         [False, False, False, False, False, False],\n",
       "         [False, False, False, False, False, False],\n",
       "         [False, False, False, False, False, False],\n",
       "         [False, False, False, False, False, False],\n",
       "         [False, False, False, False, False, False],\n",
       "         [False, False, False, False, False, False],\n",
       "         [False, False, False, False, False, False],\n",
       "         [False, False, False, False, False, False],\n",
       "         [False, False, False, False, False, False],\n",
       "         [False, False, False, False, False, False],\n",
       "         [False, False, False, False, False, False],\n",
       "         [False, False, False, False, False, False],\n",
       "         [False, False, False, False, False, False],\n",
       "         [False, False, False, False, False, False],\n",
       "         [False, False, False, False, False, False],\n",
       "         [False, False, False, False, False, False],\n",
       "         [False, False, False, False, False, False],\n",
       "         [False, False, False, False, False, False],\n",
       "         [False, False, False, False, False, False],\n",
       "         [False, False, False, False, False, False],\n",
       "         [False, False, False, False, False, False],\n",
       "         [False, False, False, False, False, False],\n",
       "         [False, False, False, False, False, False],\n",
       "         [False, False, False, False, False, False],\n",
       "         [False, False, False, False, False, False],\n",
       "         [False, False, False, False, False, False],\n",
       "         [False, False, False, False, False, False],\n",
       "         [False, False, False, False, False, False],\n",
       "         [False, False, False, False, False, False],\n",
       "         [False, False, False, False, False, False],\n",
       "         [False, False, False, False, False, False]], device='cuda:0')]"
      ]
     },
     "execution_count": 15,
     "metadata": {},
     "output_type": "execute_result"
    }
   ],
   "source": [
    "batch = iter(real_dataloader).next()\n",
    "batch = [x.to(device) for x in batch]\n",
    "batch"
   ]
  },
  {
   "cell_type": "code",
   "execution_count": 16,
   "metadata": {},
   "outputs": [
    {
     "name": "stderr",
     "output_type": "stream",
     "text": [
      "f:\\luozn\\Codes\\FloorplanGAN\\models.py:126: UserWarning: Mixed memory format inputs detected while calling the operator. The operator will output contiguous tensor even if some of the inputs are in channels_last format. (Triggered internally at  ..\\aten\\src\\ATen\\native\\TensorIterator.cpp:918.)\n",
      "  decoded)) - 0.5 + geo.permute(0, 3, 1, 2)  # 大跨residual connect#(B,4,S,1)\n"
     ]
    }
   ],
   "source": [
    "generated = generator(batch[0],batch[1])"
   ]
  },
  {
   "cell_type": "code",
   "execution_count": 17,
   "metadata": {},
   "outputs": [
    {
     "data": {
      "text/plain": [
       "torch.Size([128, 6, 10])"
      ]
     },
     "execution_count": 17,
     "metadata": {},
     "output_type": "execute_result"
    }
   ],
   "source": [
    "generated[0].shape"
   ]
  },
  {
   "cell_type": "code",
   "execution_count": 22,
   "metadata": {},
   "outputs": [
    {
     "data": {
      "image/png": "[encoded data removed]",
      "text/plain": [
       "<Figure size 1296x1296 with 56 Axes>"
      ]
     },
     "execution_count": 22,
     "metadata": {},
     "output_type": "execute_result"
    },
    {
     "data": {
      "image/png": "[encoded data removed]",
      "text/plain": [
       "<Figure size 1296x1296 with 56 Axes>"
      ]
     },
     "metadata": {
      "needs_background": "light"
     },
     "output_type": "display_data"
    }
   ],
   "source": [
    "get_figure(renderer.render(generated[0][:8]))"
   ]
  },
  {
   "cell_type": "code",
   "execution_count": 23,
   "metadata": {},
   "outputs": [
    {
     "data": {
      "text/plain": [
       "tensor(-0.1620, device='cuda:0', grad_fn=<MeanBackward0>)"
      ]
     },
     "execution_count": 23,
     "metadata": {},
     "output_type": "execute_result"
    }
   ],
   "source": [
    "pred = discriminator(batch[0],batch[1])\n",
    "pred.mean()"
   ]
  },
  {
   "cell_type": "code",
   "execution_count": 25,
   "metadata": {},
   "outputs": [
    {
     "data": {
      "image/png": "[encoded data removed]",
      "text/plain": [
       "<Figure size 1296x1296 with 56 Axes>"
      ]
     },
     "execution_count": 25,
     "metadata": {},
     "output_type": "execute_result"
    },
    {
     "data": {
      "image/png": "[encoded data removed]",
      "text/plain": [
       "<Figure size 1296x1296 with 56 Axes>"
      ]
     },
     "metadata": {
      "needs_background": "light"
     },
     "output_type": "display_data"
    }
   ],
   "source": [
    "get_figure(renderer.render(batch[0][:8]))"
   ]
  },
  {
   "cell_type": "code",
   "execution_count": 28,
   "metadata": {},
   "outputs": [
    {
     "data": {
      "image/png": "[encoded data removed]",
      "text/plain": [
       "<Figure size 1152x144 with 1 Axes>"
      ]
     },
     "execution_count": 28,
     "metadata": {},
     "output_type": "execute_result"
    },
    {
     "data": {
      "image/png": "[encoded data removed]",
      "text/plain": [
       "<Figure size 1152x144 with 1 Axes>"
      ]
     },
     "metadata": {
      "needs_background": "light"
     },
     "output_type": "display_data"
    }
   ],
   "source": [
    "draw_table(batch[0][0])"
   ]
  },
  {
   "cell_type": "markdown",
   "metadata": {},
   "source": [
    "### 2.4 训练"
   ]
  },
  {
   "cell_type": "code",
   "execution_count": 34,
   "metadata": {
    "scrolled": true
   },
   "outputs": [
    {
     "ename": "OSError",
     "evalue": "[WinError 123] 文件名、目录名或卷标语法不正确。: 'runs_rplan/2021-10-30 17:45:19'",
     "output_type": "error",
     "traceback": [
      "\u001b[1;31m---------------------------------------------------------------------------\u001b[0m",
      "\u001b[1;31mKeyError\u001b[0m                                  Traceback (most recent call last)",
      "\u001b[1;32m~\\Anaconda3\\envs\\py36-luozn\\lib\\site-packages\\tensorboardX\\record_writer.py\u001b[0m in \u001b[0;36mdirectory_check\u001b[1;34m(path)\u001b[0m\n\u001b[0;32m     46\u001b[0m         \u001b[0mprefix\u001b[0m \u001b[1;33m=\u001b[0m \u001b[0mpath\u001b[0m\u001b[1;33m.\u001b[0m\u001b[0msplit\u001b[0m\u001b[1;33m(\u001b[0m\u001b[1;34m':'\u001b[0m\u001b[1;33m)\u001b[0m\u001b[1;33m[\u001b[0m\u001b[1;36m0\u001b[0m\u001b[1;33m]\u001b[0m\u001b[1;33m\u001b[0m\u001b[1;33m\u001b[0m\u001b[0m\n\u001b[1;32m---> 47\u001b[1;33m         \u001b[0mfactory\u001b[0m \u001b[1;33m=\u001b[0m \u001b[0mREGISTERED_FACTORIES\u001b[0m\u001b[1;33m[\u001b[0m\u001b[0mprefix\u001b[0m\u001b[1;33m]\u001b[0m\u001b[1;33m\u001b[0m\u001b[1;33m\u001b[0m\u001b[0m\n\u001b[0m\u001b[0;32m     48\u001b[0m         \u001b[1;32mreturn\u001b[0m \u001b[0mfactory\u001b[0m\u001b[1;33m.\u001b[0m\u001b[0mdirectory_check\u001b[0m\u001b[1;33m(\u001b[0m\u001b[0mpath\u001b[0m\u001b[1;33m)\u001b[0m\u001b[1;33m\u001b[0m\u001b[1;33m\u001b[0m\u001b[0m\n",
      "\u001b[1;31mKeyError\u001b[0m: 'runs_rplan/2021-10-30 17'",
      "\nDuring handling of the above exception, another exception occurred:\n",
      "\u001b[1;31mOSError\u001b[0m                                   Traceback (most recent call last)",
      "\u001b[1;32m<ipython-input-34-fa3eb6e9ba60>\u001b[0m in \u001b[0;36m<module>\u001b[1;34m\u001b[0m\n\u001b[0;32m      1\u001b[0m \u001b[1;31m#log_dir = 'G_test'\u001b[0m\u001b[1;33m\u001b[0m\u001b[1;33m\u001b[0m\u001b[1;33m\u001b[0m\u001b[0m\n\u001b[0;32m      2\u001b[0m \u001b[1;32mif\u001b[0m \u001b[0mtensorboard\u001b[0m\u001b[1;33m:\u001b[0m\u001b[1;33m\u001b[0m\u001b[1;33m\u001b[0m\u001b[0m\n\u001b[1;32m----> 3\u001b[1;33m     \u001b[0mwriter\u001b[0m \u001b[1;33m=\u001b[0m \u001b[0mSummaryWriter\u001b[0m\u001b[1;33m(\u001b[0m\u001b[0mlog_dir\u001b[0m\u001b[1;33m=\u001b[0m\u001b[0mlog_dir\u001b[0m\u001b[1;33m+\u001b[0m\u001b[1;34m'/'\u001b[0m\u001b[1;33m+\u001b[0m\u001b[0mdate\u001b[0m\u001b[1;33m+\u001b[0m\u001b[1;34m' '\u001b[0m\u001b[1;33m+\u001b[0m\u001b[0mtime_\u001b[0m\u001b[1;33m)\u001b[0m\u001b[1;33m\u001b[0m\u001b[1;33m\u001b[0m\u001b[0m\n\u001b[0m\u001b[0;32m      4\u001b[0m \u001b[1;33m\u001b[0m\u001b[0m\n\u001b[0;32m      5\u001b[0m \u001b[1;31m#固定的随机噪声\u001b[0m\u001b[1;33m\u001b[0m\u001b[1;33m\u001b[0m\u001b[1;33m\u001b[0m\u001b[0m\n",
      "\u001b[1;32m~\\Anaconda3\\envs\\py36-luozn\\lib\\site-packages\\tensorboardX\\writer.py\u001b[0m in \u001b[0;36m__init__\u001b[1;34m(self, logdir, comment, purge_step, max_queue, flush_secs, filename_suffix, write_to_disk, log_dir, **kwargs)\u001b[0m\n\u001b[0;32m    273\u001b[0m         \u001b[1;31m# and recreated later as needed.\u001b[0m\u001b[1;33m\u001b[0m\u001b[1;33m\u001b[0m\u001b[1;33m\u001b[0m\u001b[0m\n\u001b[0;32m    274\u001b[0m         \u001b[0mself\u001b[0m\u001b[1;33m.\u001b[0m\u001b[0mfile_writer\u001b[0m \u001b[1;33m=\u001b[0m \u001b[0mself\u001b[0m\u001b[1;33m.\u001b[0m\u001b[0mall_writers\u001b[0m \u001b[1;33m=\u001b[0m \u001b[1;32mNone\u001b[0m\u001b[1;33m\u001b[0m\u001b[1;33m\u001b[0m\u001b[0m\n\u001b[1;32m--> 275\u001b[1;33m         \u001b[0mself\u001b[0m\u001b[1;33m.\u001b[0m\u001b[0m_get_file_writer\u001b[0m\u001b[1;33m(\u001b[0m\u001b[1;33m)\u001b[0m\u001b[1;33m\u001b[0m\u001b[1;33m\u001b[0m\u001b[0m\n\u001b[0m\u001b[0;32m    276\u001b[0m \u001b[1;33m\u001b[0m\u001b[0m\n\u001b[0;32m    277\u001b[0m         \u001b[1;31m# Create default bins for histograms, see generate_testdata.py in tensorflow/tensorboard\u001b[0m\u001b[1;33m\u001b[0m\u001b[1;33m\u001b[0m\u001b[1;33m\u001b[0m\u001b[0m\n",
      "\u001b[1;32m~\\Anaconda3\\envs\\py36-luozn\\lib\\site-packages\\tensorboardX\\writer.py\u001b[0m in \u001b[0;36m_get_file_writer\u001b[1;34m(self)\u001b[0m\n\u001b[0;32m    325\u001b[0m                                           \u001b[0mflush_secs\u001b[0m\u001b[1;33m=\u001b[0m\u001b[0mself\u001b[0m\u001b[1;33m.\u001b[0m\u001b[0m_flush_secs\u001b[0m\u001b[1;33m,\u001b[0m\u001b[1;33m\u001b[0m\u001b[1;33m\u001b[0m\u001b[0m\n\u001b[0;32m    326\u001b[0m                                           \u001b[0mfilename_suffix\u001b[0m\u001b[1;33m=\u001b[0m\u001b[0mself\u001b[0m\u001b[1;33m.\u001b[0m\u001b[0m_filename_suffix\u001b[0m\u001b[1;33m,\u001b[0m\u001b[1;33m\u001b[0m\u001b[1;33m\u001b[0m\u001b[0m\n\u001b[1;32m--> 327\u001b[1;33m                                           **self.kwargs)\n\u001b[0m\u001b[0;32m    328\u001b[0m             \u001b[1;32mif\u001b[0m \u001b[0mself\u001b[0m\u001b[1;33m.\u001b[0m\u001b[0mpurge_step\u001b[0m \u001b[1;32mis\u001b[0m \u001b[1;32mnot\u001b[0m \u001b[1;32mNone\u001b[0m\u001b[1;33m:\u001b[0m\u001b[1;33m\u001b[0m\u001b[1;33m\u001b[0m\u001b[0m\n\u001b[0;32m    329\u001b[0m                 self.file_writer.add_event(\n",
      "\u001b[1;32m~\\Anaconda3\\envs\\py36-luozn\\lib\\site-packages\\tensorboardX\\writer.py\u001b[0m in \u001b[0;36m__init__\u001b[1;34m(self, logdir, max_queue, flush_secs, filename_suffix)\u001b[0m\n\u001b[0;32m     93\u001b[0m         \u001b[0mlogdir\u001b[0m \u001b[1;33m=\u001b[0m \u001b[0mstr\u001b[0m\u001b[1;33m(\u001b[0m\u001b[0mlogdir\u001b[0m\u001b[1;33m)\u001b[0m\u001b[1;33m\u001b[0m\u001b[1;33m\u001b[0m\u001b[0m\n\u001b[0;32m     94\u001b[0m         self.event_writer = EventFileWriter(\n\u001b[1;32m---> 95\u001b[1;33m             logdir, max_queue, flush_secs, filename_suffix)\n\u001b[0m\u001b[0;32m     96\u001b[0m \u001b[1;33m\u001b[0m\u001b[0m\n\u001b[0;32m     97\u001b[0m         \u001b[1;32mdef\u001b[0m \u001b[0mcleanup\u001b[0m\u001b[1;33m(\u001b[0m\u001b[1;33m)\u001b[0m\u001b[1;33m:\u001b[0m\u001b[1;33m\u001b[0m\u001b[1;33m\u001b[0m\u001b[0m\n",
      "\u001b[1;32m~\\Anaconda3\\envs\\py36-luozn\\lib\\site-packages\\tensorboardX\\event_file_writer.py\u001b[0m in \u001b[0;36m__init__\u001b[1;34m(self, logdir, max_queue_size, flush_secs, filename_suffix)\u001b[0m\n\u001b[0;32m    102\u001b[0m         \"\"\"\n\u001b[0;32m    103\u001b[0m         \u001b[0mself\u001b[0m\u001b[1;33m.\u001b[0m\u001b[0m_logdir\u001b[0m \u001b[1;33m=\u001b[0m \u001b[0mlogdir\u001b[0m\u001b[1;33m\u001b[0m\u001b[1;33m\u001b[0m\u001b[0m\n\u001b[1;32m--> 104\u001b[1;33m         \u001b[0mdirectory_check\u001b[0m\u001b[1;33m(\u001b[0m\u001b[0mself\u001b[0m\u001b[1;33m.\u001b[0m\u001b[0m_logdir\u001b[0m\u001b[1;33m)\u001b[0m\u001b[1;33m\u001b[0m\u001b[1;33m\u001b[0m\u001b[0m\n\u001b[0m\u001b[0;32m    105\u001b[0m         \u001b[0mself\u001b[0m\u001b[1;33m.\u001b[0m\u001b[0m_event_queue\u001b[0m \u001b[1;33m=\u001b[0m \u001b[0mmultiprocessing\u001b[0m\u001b[1;33m.\u001b[0m\u001b[0mQueue\u001b[0m\u001b[1;33m(\u001b[0m\u001b[0mmax_queue_size\u001b[0m\u001b[1;33m)\u001b[0m\u001b[1;33m\u001b[0m\u001b[1;33m\u001b[0m\u001b[0m\n\u001b[0;32m    106\u001b[0m         self._ev_writer = EventsWriter(os.path.join(\n",
      "\u001b[1;32m~\\Anaconda3\\envs\\py36-luozn\\lib\\site-packages\\tensorboardX\\record_writer.py\u001b[0m in \u001b[0;36mdirectory_check\u001b[1;34m(path)\u001b[0m\n\u001b[0;32m     49\u001b[0m     \u001b[1;32mexcept\u001b[0m \u001b[0mKeyError\u001b[0m\u001b[1;33m:\u001b[0m\u001b[1;33m\u001b[0m\u001b[1;33m\u001b[0m\u001b[0m\n\u001b[0;32m     50\u001b[0m         \u001b[1;32mif\u001b[0m \u001b[1;32mnot\u001b[0m \u001b[0mos\u001b[0m\u001b[1;33m.\u001b[0m\u001b[0mpath\u001b[0m\u001b[1;33m.\u001b[0m\u001b[0mexists\u001b[0m\u001b[1;33m(\u001b[0m\u001b[0mpath\u001b[0m\u001b[1;33m)\u001b[0m\u001b[1;33m:\u001b[0m\u001b[1;33m\u001b[0m\u001b[1;33m\u001b[0m\u001b[0m\n\u001b[1;32m---> 51\u001b[1;33m             \u001b[0mos\u001b[0m\u001b[1;33m.\u001b[0m\u001b[0mmakedirs\u001b[0m\u001b[1;33m(\u001b[0m\u001b[0mpath\u001b[0m\u001b[1;33m)\u001b[0m\u001b[1;33m\u001b[0m\u001b[1;33m\u001b[0m\u001b[0m\n\u001b[0m\u001b[0;32m     52\u001b[0m \u001b[1;33m\u001b[0m\u001b[0m\n\u001b[0;32m     53\u001b[0m \u001b[1;33m\u001b[0m\u001b[0m\n",
      "\u001b[1;32m~\\Anaconda3\\envs\\py36-luozn\\lib\\os.py\u001b[0m in \u001b[0;36mmakedirs\u001b[1;34m(name, mode, exist_ok)\u001b[0m\n\u001b[0;32m    218\u001b[0m             \u001b[1;32mreturn\u001b[0m\u001b[1;33m\u001b[0m\u001b[1;33m\u001b[0m\u001b[0m\n\u001b[0;32m    219\u001b[0m     \u001b[1;32mtry\u001b[0m\u001b[1;33m:\u001b[0m\u001b[1;33m\u001b[0m\u001b[1;33m\u001b[0m\u001b[0m\n\u001b[1;32m--> 220\u001b[1;33m         \u001b[0mmkdir\u001b[0m\u001b[1;33m(\u001b[0m\u001b[0mname\u001b[0m\u001b[1;33m,\u001b[0m \u001b[0mmode\u001b[0m\u001b[1;33m)\u001b[0m\u001b[1;33m\u001b[0m\u001b[1;33m\u001b[0m\u001b[0m\n\u001b[0m\u001b[0;32m    221\u001b[0m     \u001b[1;32mexcept\u001b[0m \u001b[0mOSError\u001b[0m\u001b[1;33m:\u001b[0m\u001b[1;33m\u001b[0m\u001b[1;33m\u001b[0m\u001b[0m\n\u001b[0;32m    222\u001b[0m         \u001b[1;31m# Cannot rely on checking for EEXIST, since the operating system\u001b[0m\u001b[1;33m\u001b[0m\u001b[1;33m\u001b[0m\u001b[1;33m\u001b[0m\u001b[0m\n",
      "\u001b[1;31mOSError\u001b[0m: [WinError 123] 文件名、目录名或卷标语法不正确。: 'runs_rplan/2021-10-30 17:45:19'"
     ]
    }
   ],
   "source": [
    "#log_dir = 'G_test'\n",
    "if tensorboard:\n",
    "    writer = SummaryWriter(log_dir=log_dir+'/'+date+' '+time_)\n",
    "\n",
    "#固定的随机噪声\n",
    "with open(fixed_z_file, 'rb') as pkl_file:\n",
    "    fixed_z = pickle.load(pkl_file)\n",
    "fixed_z = [torch.tensor(x).to(device) for x in fixed_z]\n",
    "fig_fixed= get_figure(renderer.render(fixed_z[0].detach()))\n",
    "if tensorboard:\n",
    "    writer.add_figure('fixed Z Image', fig_fixed, 1)"
   ]
  },
  {
   "cell_type": "code",
   "execution_count": null,
   "metadata": {},
   "outputs": [],
   "source": [
    "real_images = iter(real_dataloader).next()\n",
    "real_images = [x.to(device) for x in real_images]"
   ]
  },
  {
   "cell_type": "code",
   "execution_count": null,
   "metadata": {},
   "outputs": [],
   "source": [
    "random_images = generate_random_layout(real_dataset,batch_size)\n",
    "random_images = [torch.tensor(x).to(device) for x in random_images]"
   ]
  },
  {
   "cell_type": "code",
   "execution_count": null,
   "metadata": {
    "scrolled": true
   },
   "outputs": [],
   "source": [
    "get_figure(render(random_images[0][:4])).show()"
   ]
  },
  {
   "cell_type": "code",
   "execution_count": null,
   "metadata": {},
   "outputs": [],
   "source": [
    "fake_images = generator(random_images[0],random_images[1])\n",
    "get_figure(render(fake_images[0][:4])).show()"
   ]
  },
  {
   "cell_type": "code",
   "execution_count": 33,
   "metadata": {
    "ExecuteTime": {
     "end_time": "2020-08-26T09:11:11.096007Z",
     "start_time": "2020-08-26T08:13:49.162581Z"
    },
    "scrolled": true
   },
   "outputs": [
    {
     "name": "stdout",
     "output_type": "stream",
     "text": [
      "Start to train epoch 0.\n",
      "\t iter 4 | batch 0 of epoch 0\n",
      "\t iter 5 | batch 1 of epoch 0\n",
      "\t iter 6 | batch 2 of epoch 0\n",
      "\t iter 7 | batch 3 of epoch 0\n",
      "\t iter 8 | batch 4 of epoch 0\n",
      "\t iter 9 | batch 5 of epoch 0\n",
      "\t iter 10 | batch 6 of epoch 0\n",
      "\t iter 11 | batch 7 of epoch 0\n",
      "\t iter 12 | batch 8 of epoch 0\n",
      "\t iter 13 | batch 9 of epoch 0\n",
      "\t iter 14 | batch 10 of epoch 0\n",
      "\t iter 15 | batch 11 of epoch 0\n",
      "\t iter 16 | batch 12 of epoch 0\n",
      "\t iter 17 | batch 13 of epoch 0\n",
      "\t iter 18 | batch 14 of epoch 0\n",
      "\t iter 19 | batch 15 of epoch 0\n",
      "\t iter 20 | batch 16 of epoch 0\n",
      "\t iter 21 | batch 17 of epoch 0\n",
      "\t iter 22 | batch 18 of epoch 0\n",
      "\t iter 23 | batch 19 of epoch 0\n",
      "\t iter 24 | batch 20 of epoch 0\n",
      "\t iter 25 | batch 21 of epoch 0\n",
      "\t iter 26 | batch 22 of epoch 0\n",
      "\t iter 27 | batch 23 of epoch 0\n",
      "\t iter 28 | batch 24 of epoch 0\n",
      "\t iter 29 | batch 25 of epoch 0\n",
      "\t iter 30 | batch 26 of epoch 0\n",
      "\t iter 31 | batch 27 of epoch 0\n",
      "\t iter 32 | batch 28 of epoch 0\n",
      "\t iter 33 | batch 29 of epoch 0\n",
      "\t iter 34 | batch 30 of epoch 0\n",
      "\t iter 35 | batch 31 of epoch 0\n",
      "\t iter 36 | batch 32 of epoch 0\n",
      "\t iter 37 | batch 33 of epoch 0\n",
      "\t iter 38 | batch 34 of epoch 0\n",
      "\t iter 39 | batch 35 of epoch 0\n",
      "\t iter 40 | batch 36 of epoch 0\n",
      "\t iter 41 | batch 37 of epoch 0\n",
      "\t iter 42 | batch 38 of epoch 0\n",
      "\t iter 43 | batch 39 of epoch 0\n",
      "\t iter 44 | batch 40 of epoch 0\n",
      "\t iter 45 | batch 41 of epoch 0\n",
      "\t iter 46 | batch 42 of epoch 0\n",
      "\t iter 47 | batch 43 of epoch 0\n",
      "\t iter 48 | batch 44 of epoch 0\n",
      "\t iter 49 | batch 45 of epoch 0\n",
      "\t iter 50 | batch 46 of epoch 0\n",
      "\t iter 51 | batch 47 of epoch 0\n",
      "\t iter 52 | batch 48 of epoch 0\n",
      "\t iter 53 | batch 49 of epoch 0\n",
      "\t iter 54 | batch 50 of epoch 0\n",
      "\t iter 55 | batch 51 of epoch 0\n",
      "\t iter 56 | batch 52 of epoch 0\n",
      "\t iter 57 | batch 53 of epoch 0\n",
      "\t iter 58 | batch 54 of epoch 0\n",
      "\t iter 59 | batch 55 of epoch 0\n",
      "\t iter 60 | batch 56 of epoch 0\n",
      "\t iter 61 | batch 57 of epoch 0\n",
      "\t iter 62 | batch 58 of epoch 0\n",
      "\t iter 63 | batch 59 of epoch 0\n",
      "\t iter 64 | batch 60 of epoch 0\n",
      "\t iter 65 | batch 61 of epoch 0\n",
      "\t iter 66 | batch 62 of epoch 0\n",
      "\t iter 67 | batch 63 of epoch 0\n",
      "\t iter 68 | batch 64 of epoch 0\n",
      "\t iter 69 | batch 65 of epoch 0\n",
      "\t iter 70 | batch 66 of epoch 0\n",
      "\t iter 71 | batch 67 of epoch 0\n",
      "\t iter 72 | batch 68 of epoch 0\n",
      "\t iter 73 | batch 69 of epoch 0\n",
      "\t iter 74 | batch 70 of epoch 0\n",
      "\t iter 75 | batch 71 of epoch 0\n",
      "\t iter 76 | batch 72 of epoch 0\n",
      "\t iter 77 | batch 73 of epoch 0\n",
      "\t iter 78 | batch 74 of epoch 0\n",
      "\t iter 79 | batch 75 of epoch 0\n",
      "\t iter 80 | batch 76 of epoch 0\n",
      "\t iter 81 | batch 77 of epoch 0\n",
      "\t iter 82 | batch 78 of epoch 0\n",
      "\t iter 83 | batch 79 of epoch 0\n",
      "\t iter 84 | batch 80 of epoch 0\n",
      "\t iter 85 | batch 81 of epoch 0\n",
      "\t iter 86 | batch 82 of epoch 0\n",
      "\t iter 87 | batch 83 of epoch 0\n",
      "\t iter 88 | batch 84 of epoch 0\n",
      "\t iter 89 | batch 85 of epoch 0\n",
      "\t iter 90 | batch 86 of epoch 0\n",
      "\t iter 91 | batch 87 of epoch 0\n",
      "\t iter 92 | batch 88 of epoch 0\n",
      "\t iter 93 | batch 89 of epoch 0\n",
      "\t iter 94 | batch 90 of epoch 0\n",
      "\t iter 95 | batch 91 of epoch 0\n",
      "\t iter 96 | batch 92 of epoch 0\n",
      "\t iter 97 | batch 93 of epoch 0\n",
      "\t iter 98 | batch 94 of epoch 0\n",
      "\t iter 99 | batch 95 of epoch 0\n",
      "\t\t N_iter      99 | Epoch [    0/ 3000] | discriminator_loss: 0.0111 | generator_loss: -0.0575\n",
      "G_layer_zero_grad\n",
      "D_layer_zero_grad\n"
     ]
    },
    {
     "ename": "NameError",
     "evalue": "name 'writer' is not defined",
     "output_type": "error",
     "traceback": [
      "\u001b[1;31m---------------------------------------------------------------------------\u001b[0m",
      "\u001b[1;31mNameError\u001b[0m                                 Traceback (most recent call last)",
      "\u001b[1;32m<ipython-input-33-cc0f4e8848a8>\u001b[0m in \u001b[0;36m<module>\u001b[1;34m\u001b[0m\n\u001b[0;32m    101\u001b[0m \u001b[1;33m\u001b[0m\u001b[0m\n\u001b[0;32m    102\u001b[0m                 \u001b[1;31m#记录loss\u001b[0m\u001b[1;33m\u001b[0m\u001b[1;33m\u001b[0m\u001b[1;33m\u001b[0m\u001b[0m\n\u001b[1;32m--> 103\u001b[1;33m                 \u001b[0mwriter\u001b[0m\u001b[1;33m.\u001b[0m\u001b[0madd_scalar\u001b[0m\u001b[1;33m(\u001b[0m\u001b[1;34m'Discriminator Loss'\u001b[0m\u001b[1;33m,\u001b[0m \u001b[0mdiscriminator_losses\u001b[0m\u001b[1;33m.\u001b[0m\u001b[0mmean\u001b[0m\u001b[1;33m(\u001b[0m\u001b[1;33m)\u001b[0m\u001b[1;33m,\u001b[0m \u001b[0mn_iter\u001b[0m\u001b[1;33m)\u001b[0m\u001b[1;33m\u001b[0m\u001b[1;33m\u001b[0m\u001b[0m\n\u001b[0m\u001b[0;32m    104\u001b[0m                 \u001b[0mwriter\u001b[0m\u001b[1;33m.\u001b[0m\u001b[0madd_scalar\u001b[0m\u001b[1;33m(\u001b[0m\u001b[1;34m'Generator Loss'\u001b[0m\u001b[1;33m,\u001b[0m \u001b[0mgenerator_losses\u001b[0m\u001b[1;33m.\u001b[0m\u001b[0mmean\u001b[0m\u001b[1;33m(\u001b[0m\u001b[1;33m)\u001b[0m\u001b[1;33m,\u001b[0m \u001b[0mn_iter\u001b[0m\u001b[1;33m)\u001b[0m\u001b[1;33m\u001b[0m\u001b[1;33m\u001b[0m\u001b[0m\n\u001b[0;32m    105\u001b[0m                 \u001b[0mwriter\u001b[0m\u001b[1;33m.\u001b[0m\u001b[0madd_scalar\u001b[0m\u001b[1;33m(\u001b[0m\u001b[1;34m'Boundray Loss'\u001b[0m\u001b[1;33m,\u001b[0m \u001b[0mboundray_losses\u001b[0m\u001b[1;33m.\u001b[0m\u001b[0mmean\u001b[0m\u001b[1;33m(\u001b[0m\u001b[1;33m)\u001b[0m\u001b[1;33m,\u001b[0m \u001b[0mn_iter\u001b[0m\u001b[1;33m)\u001b[0m\u001b[1;33m\u001b[0m\u001b[1;33m\u001b[0m\u001b[0m\n",
      "\u001b[1;31mNameError\u001b[0m: name 'writer' is not defined"
     ]
    }
   ],
   "source": [
    "# Start training.\n",
    "for ec in range(num_epochs):\n",
    "    epoch = ec + epoch_last\n",
    "    print('Start to train epoch %d.' %(epoch))\n",
    "\n",
    "    for batch_i, real_images in enumerate(real_dataloader,0):\n",
    "        n_iter+=1\n",
    "\n",
    "        print('\\t iter {0} | batch {1} of epoch {2}'.format(n_iter, batch_i, epoch))\n",
    "\n",
    "        '''real_images = [torch.cat([F.relu(torch.normal(mean=real_images[0][:,:,:-4],std=0.02)),\\\n",
    "                                  real_images[0][:,:,-4:]],axis=-1),\\\n",
    "                       real_images[1]]#向真实数据加噪声'''\n",
    "        real_images = [x.to(device) for x in real_images]\n",
    "\n",
    "        random_images = generate_random_layout(real_dataset,batch_size)\n",
    "        random_images = [torch.tensor(x).to(device) for x in random_images]\n",
    "\n",
    "        '''for parm in discriminator.parameters():\n",
    "            parm.data.clamp_(-clamp_num, clamp_num)#权重裁剪'''\n",
    "\n",
    "        # 训练判别器\n",
    "        generator.eval()\n",
    "        discriminator.train()\n",
    "        discriminator.zero_grad()\n",
    "        pred_real = discriminator(real_images[0], real_images[1])\n",
    "        pred_real.backward(torch.ones_like(pred_real).to(device))\n",
    "\n",
    "        fake_images = generator(random_images[0],random_images[1])\n",
    "        pred_fake = discriminator(fake_images[0].detach(), fake_images[1].detach())\n",
    "        pred_fake.backward(-torch.ones_like(pred_real).to(device))\n",
    "\n",
    "        ##Gradient Penalty\n",
    "        \"\"\"alpha = torch.rand(batch_size, 1, 1)\n",
    "        alpha = alpha.expand(real_images[0].size())\n",
    "        alpha = alpha.to(device)\n",
    "        interpolates = alpha * real_images[0] + (1 - alpha) * fake_images[0].detach()\n",
    "        interpolates = torch.autograd.Variable(interpolates, requires_grad=True)\n",
    "        pred_interpolates = discriminator(interpolates)\n",
    "        gradients = torch.autograd.grad(outputs=pred_interpolates, inputs=interpolates,\n",
    "                          grad_outputs=torch.ones(pred_interpolates.size()).to(device),\n",
    "                          create_graph=True, retain_graph=True, only_inputs=True)[0]\n",
    "        gradient_penalty = ((gradients.norm(2, dim=1) - 1) ** 2).mean() * 10 #LAMBDA\n",
    "        gradient_penalty.backward()\"\"\"\n",
    "\n",
    "        discriminator_optimizer.step()\n",
    "        discriminator_loss = pred_fake.mean() - pred_real.mean() #+ gradient_penalty\n",
    "\n",
    "        if tensorboard:\n",
    "            discriminator_losses.append(discriminator_loss.cpu().detach().numpy())\n",
    "\n",
    "        if (batch_i+1)%2 == 0:\n",
    "        # 训练生成器\n",
    "            discriminator.eval()\n",
    "            generator.train()\n",
    "            generator.zero_grad()\n",
    "\n",
    "            boundray_loss = bounds_check(fake_images[0])\n",
    "            boundray_loss.backward(retain_graph=True)\n",
    "\n",
    "            pred_fake = discriminator(fake_images[0],fake_images[1])\n",
    "\n",
    "            pred_fake.backward(torch.ones_like(pred_real).to(device))\n",
    "            generator_optimizer.step()\n",
    "            generator_loss = pred_fake.mean()\n",
    "\n",
    "            if tensorboard:\n",
    "                generator_losses.append(generator_loss.cpu().detach().numpy())\n",
    "                boundray_losses.append(boundray_loss.cpu().detach().numpy())\n",
    "\n",
    "        # TensorboardX\n",
    "        if n_iter%tensorboard_interval == tensorboard_interval-1:\n",
    "            discriminator_losses = np.array(discriminator_losses)\n",
    "            generator_losses = np.array(generator_losses)\n",
    "            boundray_losses = np.array(boundray_losses)\n",
    "\n",
    "            print('\\t\\t N_iter {:7d} | Epoch [{:5d}/{:5d}] | discriminator_loss: {:6.4f} | generator_loss: {:6.4f}'.\n",
    "                format(n_iter, epoch, num_epochs, discriminator_losses.mean(), generator_losses.mean()))\n",
    "            if tensorboard:\n",
    "                generator.eval()\n",
    "                discriminator.eval()\n",
    "\n",
    "                #记录梯度\n",
    "                try:\n",
    "                    G_grads = [(name,weight.grad.mean()) for name, weight in generator.named_parameters() if weight.requires_grad]\n",
    "                    writer.add_scalar('G_grads 0 {}'.format(G_grads[0][0]), \\\n",
    "                        G_grads[0][1], n_iter)\n",
    "                    writer.add_scalar('G_grads -1 {}'.format(G_grads[-1][0]), \\\n",
    "                        G_grads[-1][1], n_iter)\n",
    "                except:\n",
    "                    print('G_layer_zero_grad')\n",
    "\n",
    "                try:\n",
    "                    D_grads = [(name,weight.grad.mean()) for name, weight in discriminator.named_parameters() if weight.requires_grad]\n",
    "                    writer.add_scalar('D_grads 0 {}'.format(D_grads[0][0]), \\\n",
    "                        D_grads[0][1], n_iter)\n",
    "                    writer.add_scalar('D_grads -1 {}'.format(D_grads[-1][0]), \\\n",
    "                        D_grads[-1][1], n_iter)\n",
    "                except:\n",
    "                    print('D_layer_zero_grad')\n",
    "\n",
    "                #记录loss\n",
    "                writer.add_scalar('Discriminator Loss', discriminator_losses.mean(), n_iter)\n",
    "                writer.add_scalar('Generator Loss', generator_losses.mean(), n_iter)\n",
    "                writer.add_scalar('Boundray Loss', boundray_losses.mean(), n_iter)\n",
    "\n",
    "                #记录网络权重\n",
    "                for name, param in discriminator.named_parameters():\n",
    "                    writer.add_histogram('Discriminator: '+ name, param.clone().detach().cpu().data.numpy(), n_iter)\n",
    "                for name, param in generator.named_parameters():\n",
    "                    writer.add_histogram('Generator: '+ name, param.clone().detach().cpu().data.numpy(), n_iter)\n",
    "\n",
    "                #每个epoch向tensorboard添加recall\n",
    "\n",
    "                real_pred = pred_real.detach().cpu().numpy()\n",
    "                random_pred = discriminator(random_images[0],random_images[1]).detach().cpu().numpy()\n",
    "                fake_pred = pred_fake.detach().cpu().numpy()\n",
    "\n",
    "                acc = plt.figure(figsize=(10,5))\n",
    "                ax = acc.add_subplot(111)\n",
    "                ax.hist(real_pred,alpha=0.5, density=True,bins=60)\n",
    "                ax.hist(random_pred,alpha=0.5, density=True,bins=60)\n",
    "                ax.hist(fake_pred,alpha=0.5, density=True,bins=60)\n",
    "                ax.legend(['real_pred','random_pred','fake_pred'])\n",
    "                writer.add_figure('prediction',acc, n_iter)\n",
    "\n",
    "\n",
    "                #可视化真实图像,添加到tensorboard\n",
    "                fig_real= get_figure(renderer.render(real_images[0][:8]))\n",
    "                writer.add_figure('Real Image',fig_real,n_iter)\n",
    "\n",
    "                #可视化Z生成图像\n",
    "                generated_z = generator(fixed_z[0],fixed_z[1])\n",
    "                fig_fake = get_figure(renderer.render(generated_z[0]))\n",
    "                writer.add_figure('Fake Image',fig_fake, n_iter)\n",
    "\n",
    "                table = draw_table(generated_z[0][4])\n",
    "                writer.add_figure('generated[4]',table, n_iter)\n",
    "\n",
    "            discriminator_losses=[]\n",
    "            generator_losses=[]\n",
    "            boundray_losses=[]\n",
    "\n",
    "\n",
    "    #在确认模型有效之前，暂不保存模型参数\n",
    "    torch.save({\n",
    "            'generator_state_dict': generator.state_dict(),\n",
    "            'generator_optimizer_state_dict': generator_optimizer.state_dict(),\n",
    "            'discriminator_state_dict': discriminator.state_dict(),\n",
    "            'discriminator_optimizer_state_dict': discriminator_optimizer.state_dict(),\n",
    "            'epoch': epoch,\n",
    "            'n_iter':n_iter,\n",
    "            }, checkpoint)\n",
    "    print('\\tparams saved to '+ checkpoint)\n",
    "\n",
    "if tensorboard:\n",
    "    writer.close()"
   ]
  },
  {
   "cell_type": "code",
   "execution_count": null,
   "metadata": {},
   "outputs": [],
   "source": [
    "writer.close()"
   ]
  },
  {
   "cell_type": "code",
   "execution_count": null,
   "metadata": {},
   "outputs": [],
   "source": [
    "generator.apply(weight_init)\n"
   ]
  },
  {
   "cell_type": "code",
   "execution_count": null,
   "metadata": {},
   "outputs": [],
   "source": [
    "generator.module.encoder_fc0.weight"
   ]
  },
  {
   "cell_type": "code",
   "execution_count": null,
   "metadata": {},
   "outputs": [],
   "source": [
    "pred_real = discriminator(real_images[0])\n",
    "discriminator_real_loss = real_loss(pred_real, smooth=0.9)\n",
    "discriminator_real_loss"
   ]
  },
  {
   "cell_type": "code",
   "execution_count": null,
   "metadata": {},
   "outputs": [],
   "source": [
    "fake_images = generator(random_images[0],random_images[1])\n",
    "pred_fake = discriminator(fake_images[0].detach())\n",
    "discriminator_fake_loss = fake_loss(pred_fake, smooth=0.1)#label smoothing\n",
    "discriminator_fake_loss"
   ]
  },
  {
   "cell_type": "code",
   "execution_count": null,
   "metadata": {},
   "outputs": [],
   "source": [
    "pred_fake = discriminator(fake_images[0])\n",
    "generator_loss = real_loss(pred_fake, False)\n",
    "generator_loss"
   ]
  },
  {
   "cell_type": "code",
   "execution_count": null,
   "metadata": {},
   "outputs": [],
   "source": [
    "random_images2 = generate_random_layout(real_dataset,batch_size)\n",
    "random_images2 = [torch.tensor(x).to(device) for x in random_images2]\n",
    "fake_images2 = generator(random_images2[0],random_images2[1])\n",
    "pred_fake2 = discriminator(fake_images2[0])\n",
    "generator_loss2 = real_loss(pred_fake2, False)\n",
    "generator_loss2"
   ]
  },
  {
   "cell_type": "code",
   "execution_count": null,
   "metadata": {},
   "outputs": [],
   "source": [
    "for name, param in generator.named_parameters():\n",
    "    print(name,param.clone().detach().cpu().data.numpy())"
   ]
  },
  {
   "cell_type": "code",
   "execution_count": null,
   "metadata": {},
   "outputs": [],
   "source": [
    "param"
   ]
  },
  {
   "cell_type": "code",
   "execution_count": null,
   "metadata": {},
   "outputs": [],
   "source": [
    "param.detach().cpu().data.numpy()"
   ]
  },
  {
   "cell_type": "code",
   "execution_count": null,
   "metadata": {},
   "outputs": [],
   "source": [
    "writer.close()"
   ]
  },
  {
   "cell_type": "code",
   "execution_count": null,
   "metadata": {},
   "outputs": [],
   "source": [
    "pred_fake"
   ]
  },
  {
   "cell_type": "code",
   "execution_count": null,
   "metadata": {},
   "outputs": [],
   "source": [
    "discriminator.train()\n",
    "generator.train()\n",
    "\n",
    "real_images = iter(real_dataloader).next()\n",
    "real_images = [torch.cat([torch.normal(mean=real_images[0][:,:,:-2],std=0.02),real_images[0][:,:,-2:]],axis=-1),real_images[1]]#向真实数据加噪声\n",
    "real_images = [x.to(device) for x in real_images]\n",
    "\n",
    "random_images = generate_random_layout(real_dataset,batch_size)\n",
    "random_images = [torch.tensor(x).to(device) for x in random_images]\n",
    "\n",
    "fake_images = generator(random_images[0],random_images[1])"
   ]
  },
  {
   "cell_type": "code",
   "execution_count": null,
   "metadata": {},
   "outputs": [],
   "source": [
    "real_images[0][0]"
   ]
  },
  {
   "cell_type": "code",
   "execution_count": null,
   "metadata": {
    "scrolled": true
   },
   "outputs": [],
   "source": [
    "get_figure(render(real_images[0][:8])).show()\n",
    "#fake_images"
   ]
  },
  {
   "cell_type": "code",
   "execution_count": null,
   "metadata": {},
   "outputs": [],
   "source": [
    "elements = real_images[0][:8]\n",
    "batch_size = elements.shape[0]\n",
    "num_elements =elements.shape[1]#batch_size,46,13\n",
    "rects = elements[:,:,-4:]#batch_size,46,4\n",
    "class_ = elements[:,:,:-4]#batch_size,46,9\n",
    "\n",
    "coor_x = torch.arange(64).unsqueeze(1).expand(64,64).T\\\n",
    "        .expand(batch_size,num_elements,64,64).to(device)\n",
    "coor_y = coor_x.transpose(2,3).to(device)\n",
    "\n",
    "x = rects[:,:,0].reshape(batch_size,-1,1,1)*64#batch_size,46,1,1\n",
    "y = rects[:,:,1].reshape(batch_size,-1,1,1)*64\n",
    "area_root = rects[:,:,2].reshape(batch_size,-1,1,1)*64**2\n",
    "w = (area*aspect_ratio)**0.5\n",
    "\n",
    "h = area/w\n",
    "try:\n",
    "    h[h != h] = 0\n",
    "except:\n",
    "    pass\n",
    "\n",
    "x0 = x-0.5*w\n",
    "x1 = x+0.5*w\n",
    "y0 = y-0.5*h\n",
    "y1 = y+0.5*h "
   ]
  },
  {
   "cell_type": "code",
   "execution_count": null,
   "metadata": {
    "scrolled": true
   },
   "outputs": [],
   "source": [
    "h"
   ]
  },
  {
   "cell_type": "code",
   "execution_count": null,
   "metadata": {},
   "outputs": [],
   "source": [
    "# 训练判别器\n",
    "pred_real = discriminator(real_images[0])\n",
    "discriminator_real_loss = real_loss(pred_real, smooth=0.8)#label smoothing\n",
    "\n",
    "fake_images = generator(random_images[0],random_images[1])\n",
    "pred_fake = discriminator(fake_images[0].detach())\n",
    "discriminator_fake_loss = fake_loss(pred_fake, smooth=0.2)#label smoothing\n",
    "\n",
    "discriminator_loss = discriminator_real_loss + discriminator_fake_loss"
   ]
  },
  {
   "cell_type": "code",
   "execution_count": null,
   "metadata": {},
   "outputs": [],
   "source": [
    "discriminator_loss"
   ]
  },
  {
   "cell_type": "code",
   "execution_count": null,
   "metadata": {},
   "outputs": [],
   "source": [
    "discriminator.zero_grad()\n",
    "discriminator_loss.backward()\n",
    "\n",
    "discriminator_optimizer.step()\n",
    "discriminator_scheduler.step()"
   ]
  },
  {
   "cell_type": "code",
   "execution_count": null,
   "metadata": {},
   "outputs": [],
   "source": [
    "D_grads = [(name,weight.grad.mean()) for name, weight in discriminator.named_parameters() if weight.requires_grad]\n",
    "D_grads"
   ]
  },
  {
   "cell_type": "code",
   "execution_count": null,
   "metadata": {},
   "outputs": [],
   "source": [
    "# 训练生成器\n",
    "pred_fake = discriminator(fake_images[0])\n",
    "generator_loss = real_loss(pred_fake, False)\n",
    "pred_fake"
   ]
  },
  {
   "cell_type": "code",
   "execution_count": null,
   "metadata": {},
   "outputs": [],
   "source": [
    "generator_loss"
   ]
  },
  {
   "cell_type": "code",
   "execution_count": null,
   "metadata": {},
   "outputs": [],
   "source": [
    "generator.zero_grad()\n",
    "generator_loss.backward()\n",
    "G_grads = [(name,weight.grad.mean()) for name, weight in generator.named_parameters() if weight.requires_grad]\n",
    "G_grads"
   ]
  },
  {
   "cell_type": "code",
   "execution_count": null,
   "metadata": {},
   "outputs": [],
   "source": [
    "random_images2 = generate_random_layout(real_dataset,batch_size)\n",
    "random_images2 = [torch.tensor(x).to(device) for x in random_images2]\n",
    "fake_images2 = generator(random_images2[0],random_images2[1])\n",
    "pred_fake2 = discriminator(fake_images2[0])\n",
    "generator_loss2 = real_loss(pred_fake2, False)\n",
    "generator_loss2.backward()\n",
    "\n",
    "generator_optimizer.step()\n",
    "generator_scheduler.step()"
   ]
  },
  {
   "cell_type": "code",
   "execution_count": null,
   "metadata": {},
   "outputs": [],
   "source": [
    "render(fake_images[0])[0].shape\n"
   ]
  },
  {
   "cell_type": "code",
   "execution_count": null,
   "metadata": {},
   "outputs": [],
   "source": [
    "pred_fake"
   ]
  },
  {
   "cell_type": "code",
   "execution_count": null,
   "metadata": {},
   "outputs": [],
   "source": [
    "generator.eval()\n",
    "discriminator.eval()\n",
    "calc_images = calc_iter.next()\n",
    "calc_images =[x.to(device) for x in calc_images]\n",
    "fake_images = generate_random_layout(real_dataset,batch_size)\n",
    "fake_images = [torch.tensor(x).to(device) for x in fake_images]\n",
    "generated_images = generator(fake_images[0],fake_images[1])\n",
    "\n",
    "real_pred = discriminator(calc_images[0]).detach().cpu().numpy()\n",
    "fake_pred = discriminator(fake_images[0]).detach().cpu().numpy()\n",
    "generated_pred = discriminator(generated_images[0]).detach().cpu().numpy()"
   ]
  },
  {
   "cell_type": "code",
   "execution_count": null,
   "metadata": {
    "scrolled": true
   },
   "outputs": [],
   "source": [
    "print()\n",
    "get_figure(discriminator.render(calc_images[0][:8])).show()"
   ]
  },
  {
   "cell_type": "code",
   "execution_count": null,
   "metadata": {
    "scrolled": true
   },
   "outputs": [],
   "source": [
    "get_figure(discriminator.render(fake_images[0][:8])).show()"
   ]
  },
  {
   "cell_type": "code",
   "execution_count": null,
   "metadata": {},
   "outputs": [],
   "source": [
    "plt.hist(real_pred,alpha=0.7, density=True,range=(0.,1.),bins=60)\n",
    "plt.show()\n",
    "#real_loss(discriminator_real, False)"
   ]
  },
  {
   "cell_type": "code",
   "execution_count": null,
   "metadata": {},
   "outputs": [],
   "source": [
    "real_loss(torch.tensor([0.5,]))"
   ]
  },
  {
   "cell_type": "code",
   "execution_count": null,
   "metadata": {},
   "outputs": [],
   "source": [
    "plt.hist(fake_pred,alpha=0.7, density=True,range=(0.,1.),bins=60)\n",
    "plt.show()"
   ]
  },
  {
   "cell_type": "code",
   "execution_count": null,
   "metadata": {},
   "outputs": [],
   "source": [
    "fake_loss(torch.tensor(fake_pred))"
   ]
  },
  {
   "cell_type": "code",
   "execution_count": null,
   "metadata": {},
   "outputs": [],
   "source": [
    "plt.hist(generated_pred,alpha=0.7, density=True,range=(0.,1.),bins=60)\n",
    "plt.show()"
   ]
  },
  {
   "cell_type": "code",
   "execution_count": null,
   "metadata": {},
   "outputs": [],
   "source": [
    "x = np.linspace(0,1)\n",
    "y_f= np.array([fake_loss(torch.tensor([d,])).numpy() for d in x])\n",
    "y_r = np.array([real_loss(torch.tensor([d,])).numpy() for d in x])\n",
    "plt.figure()\n",
    "plt.plot(x,y_f)\n",
    "plt.plot(x,y_r)\n",
    "plt.legend(['fake loss','real loss'])"
   ]
  },
  {
   "cell_type": "code",
   "execution_count": null,
   "metadata": {
    "scrolled": true
   },
   "outputs": [],
   "source": [
    "fake_loss(torch.tensor(fake_pred))"
   ]
  },
  {
   "cell_type": "code",
   "execution_count": null,
   "metadata": {},
   "outputs": [],
   "source": [
    "fake_images"
   ]
  },
  {
   "cell_type": "code",
   "execution_count": null,
   "metadata": {},
   "outputs": [],
   "source": [
    "get_figure(discriminator.render(generated_images[0][:8]).detach()).show()"
   ]
  },
  {
   "cell_type": "code",
   "execution_count": null,
   "metadata": {},
   "outputs": [],
   "source": [
    "fake_images[0]"
   ]
  },
  {
   "cell_type": "code",
   "execution_count": null,
   "metadata": {},
   "outputs": [],
   "source": [
    "generated_pred"
   ]
  },
  {
   "cell_type": "code",
   "execution_count": null,
   "metadata": {
    "ExecuteTime": {
     "end_time": "2020-08-26T09:11:11.096007Z",
     "start_time": "2020-08-26T08:13:49.162581Z"
    },
    "scrolled": true
   },
   "outputs": [],
   "source": [
    "writer.close()"
   ]
  },
  {
   "cell_type": "markdown",
   "metadata": {},
   "source": [
    "# metrics"
   ]
  },
  {
   "cell_type": "code",
   "execution_count": null,
   "metadata": {},
   "outputs": [],
   "source": [
    "import models\n",
    "reload(models)\n",
    "from models import Generator, WireframeDiscriminator\n",
    "pkl_name = './params/params_rplan_cuda:0_2020-11-20.pkl'\n",
    "\n",
    "generator = Generator(device=device,n_gpu=1,dataset=real_dataset)\n",
    "discriminator = WireframeDiscriminator(device=device,n_gpu=1,dataset=real_dataset,rendered_size=64)\n",
    "render = discriminator.render\n",
    "\n",
    "# Leaning rate for optimizers\n",
    "learning_rate = 0.00002\n",
    "print('Initialize optimizers.')\n",
    "generator_optimizer = optim.Adam(generator.parameters(), learning_rate)\n",
    "discriminator_optimizer = optim.Adam(discriminator.parameters(), learning_rate/4)\n",
    "\n",
    "if os.path.exists(pkl_name):\n",
    "    checkpoint = torch.load(pkl_name)\n",
    "    generator.load_state_dict(checkpoint['generator_state_dict'])\n",
    "    generator_optimizer.load_state_dict(checkpoint['generator_optimizer_state_dict'])\n",
    "    discriminator.load_state_dict(checkpoint['discriminator_state_dict'])\n",
    "    discriminator_optimizer.load_state_dict(checkpoint['discriminator_optimizer_state_dict'])\n",
    "    epoch_last = checkpoint['epoch']\n",
    "    n_iter = checkpoint['n_iter']\n",
    "    print('load_previous_model')\n",
    "else:\n",
    "    epoch_last = 0\n",
    "    # global step\n",
    "    n_iter = -1\n",
    "    print('create_new_model')"
   ]
  },
  {
   "cell_type": "markdown",
   "metadata": {},
   "source": [
    "### 面积pca"
   ]
  },
  {
   "cell_type": "code",
   "execution_count": null,
   "metadata": {},
   "outputs": [],
   "source": [
    "real_batch = iter(real_dataloader).next()\n",
    "real_batch = [x.to(device) for x in real_batch]\n",
    "real_batch"
   ]
  },
  {
   "cell_type": "code",
   "execution_count": null,
   "metadata": {},
   "outputs": [],
   "source": [
    "get_figure(render(real_batch[0][:8])).show()"
   ]
  },
  {
   "cell_type": "code",
   "execution_count": null,
   "metadata": {},
   "outputs": [],
   "source": [
    "random_batch = generate_random_layout(real_dataset,batch_size)\n",
    "random_batch = [torch.tensor(x).to(device) for x in random_batch]\n",
    "random_batch"
   ]
  },
  {
   "cell_type": "code",
   "execution_count": null,
   "metadata": {},
   "outputs": [],
   "source": [
    "get_figure(render(random_batch[0][:8])).show()"
   ]
  },
  {
   "cell_type": "code",
   "execution_count": null,
   "metadata": {},
   "outputs": [],
   "source": [
    "fake_batch = generator(random_batch[0],random_batch[1])\n",
    "fake_batch"
   ]
  },
  {
   "cell_type": "code",
   "execution_count": null,
   "metadata": {},
   "outputs": [],
   "source": [
    "get_figure(render(fake_batch[0][:8])).show()"
   ]
  },
  {
   "cell_type": "code",
   "execution_count": null,
   "metadata": {},
   "outputs": [],
   "source": [
    "real = real_batch[0][:,:,-2].cpu().numpy()\n",
    "random = random_batch[0][:,:,-2].cpu().numpy()\n",
    "fake = fake_batch[0][:,:,-2].detach().cpu().numpy()\n",
    "real.shape"
   ]
  },
  {
   "cell_type": "code",
   "execution_count": null,
   "metadata": {},
   "outputs": [],
   "source": [
    "real_ = np.array([real_dataset[i][0][:,-2] for i in tqdm(range(len(real_dataset)))])"
   ]
  },
  {
   "cell_type": "code",
   "execution_count": null,
   "metadata": {},
   "outputs": [],
   "source": [
    "import matplotlib.pyplot as plt\n",
    "from mpl_toolkits.mplot3d import Axes3D\n",
    "from sklearn.decomposition import PCA\n",
    "pca = PCA(n_components=3)\n",
    "pca.fit(real_)\n",
    "print(pca.explained_variance_ratio_)\n",
    "print(pca.explained_variance_)"
   ]
  },
  {
   "cell_type": "code",
   "execution_count": null,
   "metadata": {},
   "outputs": [],
   "source": [
    "real_new = pca.transform(real)\n",
    "random_new = pca.transform(random)\n",
    "fake_new = pca.transform(fake)\n",
    "real_new"
   ]
  },
  {
   "cell_type": "code",
   "execution_count": null,
   "metadata": {
    "scrolled": false
   },
   "outputs": [],
   "source": [
    "fig = plt.figure(figsize = (8,8))\n",
    "ax = fig.add_subplot(111, projection='3d')\n",
    "ax.scatter(real_new[:, 0], real_new[:, 1], real_new[:, 2],c='r',marker='o')\n",
    "ax.scatter(random_new[:, 0], random_new[:, 1], random_new[:, 2],c='b',marker='o')\n",
    "ax.scatter(fake_new[:, 0], fake_new[:, 1], fake_new[:, 2],c='g',marker='o')\n",
    "plt.legend(['real','random','fake'])\n",
    "plt.show()"
   ]
  },
  {
   "cell_type": "markdown",
   "metadata": {},
   "source": [
    "### M距离pca"
   ]
  },
  {
   "cell_type": "code",
   "execution_count": null,
   "metadata": {},
   "outputs": [],
   "source": [
    "def get_mdistance(batch):\n",
    "    if len(batch[0].shape)==3:\n",
    "        livingroom = batch[0][:,0:1,-4:-2].detach().cpu().numpy()\n",
    "        otherrooms = batch[0][:,1:,-4:-2].detach().cpu().numpy()\n",
    "    elif len(batch[0].shape)==2:\n",
    "        livingroom = batch[0][0:1,-4:-2]\n",
    "        otherrooms = batch[0][1:,-4:-2]\n",
    "    mdistance = (np.abs(otherrooms-livingroom)).sum(axis=-1)\n",
    "    return mdistance\n",
    "temp = get_mdistance(real_batch)\n",
    "temp.shape"
   ]
  },
  {
   "cell_type": "code",
   "execution_count": null,
   "metadata": {},
   "outputs": [],
   "source": [
    "real = get_mdistance(real_batch)\n",
    "random = get_mdistance(random_batch)\n",
    "fake = get_mdistance(fake_batch)\n",
    "real"
   ]
  },
  {
   "cell_type": "code",
   "execution_count": null,
   "metadata": {},
   "outputs": [],
   "source": [
    "real_ = np.array([get_mdistance(real_dataset[i]) for i in tqdm(range(len(real_dataset)))])"
   ]
  },
  {
   "cell_type": "code",
   "execution_count": null,
   "metadata": {},
   "outputs": [],
   "source": [
    "real_[0]"
   ]
  },
  {
   "cell_type": "code",
   "execution_count": null,
   "metadata": {},
   "outputs": [],
   "source": [
    "pca = PCA(n_components=2)\n",
    "pca.fit(real_)\n",
    "print(pca.explained_variance_ratio_)\n",
    "print(pca.explained_variance_)"
   ]
  },
  {
   "cell_type": "code",
   "execution_count": null,
   "metadata": {},
   "outputs": [],
   "source": [
    "real_new = pca.transform(real)\n",
    "random_new = pca.transform(random)\n",
    "fake_new = pca.transform(fake)"
   ]
  },
  {
   "cell_type": "code",
   "execution_count": null,
   "metadata": {},
   "outputs": [],
   "source": [
    "fig = plt.figure(figsize = (8,8))\n",
    "ax = fig.add_subplot(111, projection='3d')\n",
    "ax.scatter(real_new[:, 0], real_new[:, 1], real_new[:, 2],c='r',marker='o')\n",
    "ax.scatter(random_new[:, 0], random_new[:, 1], random_new[:, 2],c='b',marker='o')\n",
    "ax.scatter(fake_new[:, 0], fake_new[:, 1], fake_new[:, 2],c='g',marker='o')\n",
    "plt.legend(['real','random','fake'])\n",
    "plt.show()"
   ]
  },
  {
   "cell_type": "code",
   "execution_count": null,
   "metadata": {},
   "outputs": [],
   "source": [
    "fig = plt.figure(figsize = (8,8))\n",
    "ax = fig.add_subplot(111)\n",
    "ax.scatter(real_new[:, 0], real_new[:, 1],c='r',marker='o')\n",
    "ax.scatter(random_new[:, 0], random_new[:, 1],c='b',marker='o')\n",
    "ax.scatter(fake_new[:, 0], fake_new[:, 1],c='g',marker='o')\n",
    "plt.legend(['real','random','fake'])\n",
    "plt.show()"
   ]
  },
  {
   "cell_type": "markdown",
   "metadata": {},
   "source": [
    "### 直观可视化"
   ]
  },
  {
   "cell_type": "code",
   "execution_count": null,
   "metadata": {},
   "outputs": [],
   "source": [
    "real_dataset.dict_room_encode"
   ]
  },
  {
   "cell_type": "code",
   "execution_count": null,
   "metadata": {},
   "outputs": [],
   "source": [
    "rooms"
   ]
  },
  {
   "cell_type": "code",
   "execution_count": null,
   "metadata": {
    "scrolled": false
   },
   "outputs": [],
   "source": [
    "real_batch"
   ]
  },
  {
   "cell_type": "markdown",
   "metadata": {},
   "source": [
    "## 检查generator forward passing"
   ]
  },
  {
   "cell_type": "code",
   "execution_count": null,
   "metadata": {
    "scrolled": true
   },
   "outputs": [],
   "source": [
    "loaded=fixed_z\n",
    "draw_table(loaded[0][0]).show()"
   ]
  },
  {
   "cell_type": "code",
   "execution_count": null,
   "metadata": {},
   "outputs": [],
   "source": [
    "fig_fake = get_figure(discriminator.render(loaded[0]).detach())\n",
    "fig_fake.show()"
   ]
  },
  {
   "cell_type": "code",
   "execution_count": null,
   "metadata": {},
   "outputs": [],
   "source": [
    "generated = generator(loaded[0],loaded[1])\n",
    "draw_table(generated[0][1]).show()"
   ]
  },
  {
   "cell_type": "code",
   "execution_count": null,
   "metadata": {},
   "outputs": [],
   "source": [
    "fig_fake = get_figure(discriminator.render(generated[0]).detach())\n",
    "fig_fake.show()"
   ]
  },
  {
   "cell_type": "code",
   "execution_count": null,
   "metadata": {},
   "outputs": [],
   "source": [
    "rendered = discriminator.render(generated[0]).detach()\n",
    "draw_table(rendered[1,0,:20,:20]).show()"
   ]
  },
  {
   "cell_type": "code",
   "execution_count": null,
   "metadata": {},
   "outputs": [],
   "source": [
    "real_images[0][0,:,-4:]\n"
   ]
  },
  {
   "cell_type": "code",
   "execution_count": null,
   "metadata": {},
   "outputs": [],
   "source": [
    "rendered = discriminator.render(real_images[0][:8]).detach()\n",
    "draw_table(rendered[1,0,:20,:20]).show()"
   ]
  },
  {
   "cell_type": "code",
   "execution_count": null,
   "metadata": {},
   "outputs": [],
   "source": [
    "input_ = torch.arange(0,24,1.0).reshape(2,3,4)\n",
    "input_"
   ]
  },
  {
   "cell_type": "code",
   "execution_count": null,
   "metadata": {},
   "outputs": [],
   "source": [
    "input_.permute(0,2,1).reshape(8,3)"
   ]
  },
  {
   "cell_type": "code",
   "execution_count": null,
   "metadata": {},
   "outputs": [],
   "source": [
    "N, C, H, W = 2,3,5,10\n",
    "f_k = input_.reshape([N, C, H*W]).permute(0, 2, 1)#[2,50,3]\n",
    "f_q = input_.reshape([N, C, H*W])#[2,3,50]\n",
    "w = torch.matmul(f_k, f_q)/(H*W)#[2, 50, 50]"
   ]
  },
  {
   "cell_type": "code",
   "execution_count": null,
   "metadata": {},
   "outputs": [],
   "source": [
    "f_r2 = torch.matmul(input_.reshape([N, C, H*W]),w)\n",
    "f_r = torch.matmul(w.permute(0, 2, 1),input_.reshape([N, C, H*W]).permute(0, 2, 1)).permute(0, 2, 1)"
   ]
  },
  {
   "cell_type": "code",
   "execution_count": null,
   "metadata": {},
   "outputs": [],
   "source": [
    "t = torch.arange(12).reshape(3,4)\n",
    "t2 = t.transpose(0,1)"
   ]
  },
  {
   "cell_type": "code",
   "execution_count": null,
   "metadata": {},
   "outputs": [],
   "source": [
    "t.data_ptr()"
   ]
  },
  {
   "cell_type": "code",
   "execution_count": null,
   "metadata": {},
   "outputs": [],
   "source": [
    "t2.data_ptr()"
   ]
  },
  {
   "cell_type": "code",
   "execution_count": null,
   "metadata": {},
   "outputs": [],
   "source": [
    "f_r.shape"
   ]
  },
  {
   "cell_type": "code",
   "execution_count": null,
   "metadata": {},
   "outputs": [],
   "source": [
    "f_r = f_r.permute(0,2,1)\n",
    "f_r.shape"
   ]
  },
  {
   "cell_type": "code",
   "execution_count": null,
   "metadata": {
    "scrolled": true
   },
   "outputs": [],
   "source": [
    "f_r.stride()"
   ]
  },
  {
   "cell_type": "code",
   "execution_count": null,
   "metadata": {},
   "outputs": [],
   "source": [
    "f_r = f_r.permute(0,2,1)\n",
    "f_r.shape"
   ]
  },
  {
   "cell_type": "code",
   "execution_count": null,
   "metadata": {},
   "outputs": [],
   "source": [
    "f_r.stride()"
   ]
  },
  {
   "cell_type": "code",
   "execution_count": null,
   "metadata": {},
   "outputs": [],
   "source": [
    "f_r = f_r.reshape(N,C,H,W)\n",
    "f_r2 = f_r2.reshape(N,C,H,W)"
   ]
  },
  {
   "cell_type": "code",
   "execution_count": null,
   "metadata": {},
   "outputs": [],
   "source": [
    "f_r-f_r2"
   ]
  },
  {
   "cell_type": "code",
   "execution_count": null,
   "metadata": {},
   "outputs": [],
   "source": [
    "torch.matmul(input_.reshape(2,3,50).permute(0,2,1), input_.reshape(2,3,50)).shape"
   ]
  },
  {
   "cell_type": "code",
   "execution_count": null,
   "metadata": {
    "scrolled": true
   },
   "outputs": [],
   "source": [
    "fake_rectangles = generate_fake_dicts_rect(len(rectangles.keys()),mu, sigma, mean, cov, rect_types)\n",
    "fake_dataset = wireframeDataset(fake_rectangles,maximum_elements_num,dict_room_encode)\n",
    "fake_dataloader = DataLoader(fake_dataset,batch_size,shuffle=False,num_workers=0)\n",
    "fake_images = iter(fake_dataloader).next()\n",
    "fake_images = [x.to(device).detach() for x in fake_images]\n",
    "fake_images"
   ]
  },
  {
   "cell_type": "code",
   "execution_count": null,
   "metadata": {},
   "outputs": [],
   "source": [
    "fig= get_figure(discriminator.render(loaded[0]))\n",
    "fig.show()"
   ]
  },
  {
   "cell_type": "code",
   "execution_count": null,
   "metadata": {
    "scrolled": true
   },
   "outputs": [],
   "source": [
    "input_data = [0]\n",
    "input_length = fake_images[1]\n",
    "generated = generator(input_data,input_length)\n",
    "generated"
   ]
  },
  {
   "cell_type": "code",
   "execution_count": null,
   "metadata": {},
   "outputs": [],
   "source": [
    "generated[0].contiguous()"
   ]
  },
  {
   "cell_type": "code",
   "execution_count": null,
   "metadata": {},
   "outputs": [],
   "source": [
    "pd.DataFrame(generated[0][0].cpu().detach().numpy()).to_csv('generated.csv')"
   ]
  },
  {
   "cell_type": "code",
   "execution_count": null,
   "metadata": {},
   "outputs": [],
   "source": [
    "fig= get_figure(discriminator.render(generated[0]))\n",
    "fig.show()"
   ]
  },
  {
   "cell_type": "code",
   "execution_count": null,
   "metadata": {},
   "outputs": [],
   "source": [
    "input_data = fake_images[0]\n",
    "input_length = fake_images[1]\n",
    "title=['xc','w','yc','h']\n",
    "plt.figure(figsize=(15,10))\n",
    "for i in range(4):\n",
    "    plt.subplot(2,2,i+1)\n",
    "    plt.hist(input_data[:,:,-4+i].detach().cpu().numpy().flatten(), 30,density=1, alpha=0.75) \n",
    "    plt.title(title[i])\n",
    "plt.show()"
   ]
  },
  {
   "cell_type": "code",
   "execution_count": null,
   "metadata": {},
   "outputs": [],
   "source": [
    "out = F.relu(generator.encoder_fc1(fake_images[0]))\n",
    "print(out.shape)\n",
    "plt.hist(out.detach().flatten().cpu().numpy(),bins=30)"
   ]
  },
  {
   "cell_type": "code",
   "execution_count": null,
   "metadata": {},
   "outputs": [],
   "source": [
    "out = F.relu(generator.encoder_fc2(out))\n",
    "print(out.shape)\n",
    "plt.hist(out.detach().flatten().cpu().numpy(),bins=30)"
   ]
  },
  {
   "cell_type": "code",
   "execution_count": null,
   "metadata": {},
   "outputs": [],
   "source": [
    "out"
   ]
  },
  {
   "cell_type": "code",
   "execution_count": null,
   "metadata": {},
   "outputs": [],
   "source": [
    "encoded = torch.sigmoid(generator.encoder_fc3(out))\n",
    "print(encoded.shape)\n",
    "plt.hist(encoded.detach().flatten().cpu().numpy(),bins=30)"
   ]
  },
  {
   "cell_type": "code",
   "execution_count": null,
   "metadata": {},
   "outputs": [],
   "source": [
    "encoded"
   ]
  },
  {
   "cell_type": "code",
   "execution_count": null,
   "metadata": {},
   "outputs": [],
   "source": [
    "relation_residual_1 = models.relation_module(encoded, generator.device, generator.relation1_unary, generator.relation1_psi,\n",
    "                                              generator.relation1_phi, generator.relation1_wr,input_length)\n",
    "print(relation_residual_1.shape)\n",
    "plt.hist(relation_residual_1.detach().flatten().cpu().numpy())        "
   ]
  },
  {
   "cell_type": "code",
   "execution_count": null,
   "metadata": {},
   "outputs": [],
   "source": [
    "relation_residual_2 = models.relation_module(relation_residual_1, generator.device, generator.relation2_unary, generator.relation2_psi,\n",
    "                                              generator.relation2_phi, generator.relation2_wr,input_length)\n",
    "print(relation_residual_2.shape)\n",
    "plt.hist(relation_residual_2.detach().flatten().cpu().numpy())     "
   ]
  },
  {
   "cell_type": "code",
   "execution_count": null,
   "metadata": {},
   "outputs": [],
   "source": [
    "out = F.relu(generator.decoder_fc1(relation_residual_2))\n",
    "print(out.shape)\n",
    "plt.hist(out.detach().flatten().cpu().numpy())"
   ]
  },
  {
   "cell_type": "code",
   "execution_count": null,
   "metadata": {},
   "outputs": [],
   "source": [
    "out = F.relu(generator.decoder_fc2(out))\n",
    "print(out.shape)\n",
    "plt.hist(out.detach().flatten().cpu().numpy())"
   ]
  },
  {
   "cell_type": "code",
   "execution_count": null,
   "metadata": {},
   "outputs": [],
   "source": [
    "out"
   ]
  },
  {
   "cell_type": "code",
   "execution_count": null,
   "metadata": {},
   "outputs": [],
   "source": [
    "syn_cls = generator.sigmoid_brach1(generator.branch_fc1(out))\n",
    "syn_geo = generator.sigmoid_brach2(generator.branch_fc2(out))"
   ]
  },
  {
   "cell_type": "code",
   "execution_count": null,
   "metadata": {},
   "outputs": [],
   "source": [
    "syn_geo"
   ]
  },
  {
   "cell_type": "code",
   "execution_count": null,
   "metadata": {
    "scrolled": true
   },
   "outputs": [],
   "source": [
    "# Synthesized layout\n",
    "res = torch.cat((syn_cls, syn_geo), 2)\n",
    "batch_size, maximum_elements_num, feature_size = input_data.shape\n",
    "mask_l = [torch.cat([torch.ones(l,feature_size),torch.zeros(maximum_elements_num-l,feature_size)]) for l in input_length.cpu().numpy()]\n",
    "mask = torch.stack(mask_l)\n",
    "mask = mask.to(generator.device)\n",
    "res = res.mul(mask)\n",
    "print(res.shape)\n",
    "plt.hist(res.detach().flatten().cpu().numpy(),bins=200)"
   ]
  },
  {
   "cell_type": "code",
   "execution_count": null,
   "metadata": {},
   "outputs": [],
   "source": [
    "discriminator.eval()\n",
    "fig= get_figure(discriminator.render(fake_images[0]))\n",
    "fig.show()"
   ]
  },
  {
   "cell_type": "code",
   "execution_count": null,
   "metadata": {},
   "outputs": [],
   "source": [
    "generator.train()\n",
    "fake_images2 = generator(fake_images)\n",
    "fake_images2"
   ]
  },
  {
   "cell_type": "code",
   "execution_count": null,
   "metadata": {
    "scrolled": true
   },
   "outputs": [],
   "source": [
    "fig= get_figure(discriminator.render(fake_images2[0]))\n",
    "fig.show()"
   ]
  },
  {
   "cell_type": "code",
   "execution_count": null,
   "metadata": {},
   "outputs": [],
   "source": [
    "torch.mm(torch.Tensor(52,1).t(),torch.Tensor(52,1))"
   ]
  },
  {
   "cell_type": "markdown",
   "metadata": {},
   "source": [
    "## 检查discriminator forward passing"
   ]
  },
  {
   "cell_type": "code",
   "execution_count": null,
   "metadata": {
    "scrolled": true
   },
   "outputs": [],
   "source": [
    "real_images = iter(real_dataloader).next()\n",
    "real_images = [x.to(device) for x in real_images]\n",
    "real_images"
   ]
  },
  {
   "cell_type": "code",
   "execution_count": null,
   "metadata": {},
   "outputs": [],
   "source": [
    "rendered = discriminator.render(real_images[0][:8])\n",
    "get_figure(rendered).show()"
   ]
  },
  {
   "cell_type": "code",
   "execution_count": null,
   "metadata": {},
   "outputs": [],
   "source": [
    "rendered.shape"
   ]
  },
  {
   "cell_type": "code",
   "execution_count": null,
   "metadata": {},
   "outputs": [],
   "source": [
    "cnn = nn.Sequential(\n",
    "            nn.Conv2d(10,64,kernel_size=5,stride=2,padding=2,bias=False),#padding=2,same\n",
    "            nn.BatchNorm2d(64),\n",
    "            nn.LeakyReLU(inplace=True),#32, rendered_size/2, rendered_size/2\n",
    "\n",
    "            nn.Conv2d(64,128,kernel_size=5,stride=2,padding=2,bias=False),\n",
    "            nn.BatchNorm2d(128),\n",
    "            nn.LeakyReLU(inplace=True),#64, rendered_size/4, rendered_size/4\n",
    "\n",
    "            nn.Conv2d(128,256,kernel_size=5,stride=2,padding=2,bias=False),\n",
    "            nn.BatchNorm2d(256),\n",
    "            nn.LeakyReLU(inplace=True),#128, rendered_size/8, rendered_size/8\n",
    "        ).to(device)\n"
   ]
  },
  {
   "cell_type": "code",
   "execution_count": null,
   "metadata": {},
   "outputs": [],
   "source": [
    "cnn(rendered)"
   ]
  },
  {
   "cell_type": "code",
   "execution_count": null,
   "metadata": {},
   "outputs": [],
   "source": [
    "discriminator(real_images[0])"
   ]
  },
  {
   "cell_type": "code",
   "execution_count": null,
   "metadata": {},
   "outputs": [],
   "source": [
    "cnned = discriminator.cnn(rendered)\n",
    "cnned = cnned.squeeze()\n",
    "print(cnned.shape)\n",
    "fig = plt.figure(figsize=(5,30))\n",
    "for b in range(batch_size):\n",
    "    ax = fig.add_subplot(batch_size,1,b+1) \n",
    "    ax.hist(cnned.detach().cpu().numpy()[b],bins = 60)\n",
    "    ax.set_ylim([0,50])\n",
    "fig.show()"
   ]
  },
  {
   "cell_type": "markdown",
   "metadata": {},
   "source": [
    "# test"
   ]
  },
  {
   "cell_type": "code",
   "execution_count": null,
   "metadata": {
    "ExecuteTime": {
     "end_time": "2020-08-23T08:37:23.864698Z",
     "start_time": "2020-08-23T08:37:22.730853Z"
    }
   },
   "outputs": [],
   "source": [
    "fake_rectangles = generate_fake_dicts_rect(len(rectangles.keys()),mu, sigma, mean, cov, rect_types)\n",
    "fake_dataset = wireframeDataset(fake_rectangles,maximum_elements_num,dict_room_encode)\n",
    "fake_dataloader = DataLoader(fake_dataset,batch_size,shuffle=False,num_workers=0)\n",
    "batch = iter(fake_dataloader).next()\n",
    "batch_fake = [x.to(device) for x in batch]\n",
    "batch_fake"
   ]
  },
  {
   "cell_type": "code",
   "execution_count": null,
   "metadata": {},
   "outputs": [],
   "source": [
    "batch = iter(real_dataloader).next()\n",
    "batch_real = [x.to(device) for x in batch]\n",
    "discriminator.eval()\n",
    "render_real = discriminator.render(batch_real[0])\n",
    "render_real.shape"
   ]
  },
  {
   "cell_type": "code",
   "execution_count": null,
   "metadata": {},
   "outputs": [],
   "source": [
    "batch_real[0].shape"
   ]
  },
  {
   "cell_type": "code",
   "execution_count": null,
   "metadata": {},
   "outputs": [],
   "source": [
    "discriminator.eval()\n",
    "rendered = discriminator.render(batch_fake[0])\n",
    "batch_size = rendered.shape[0]\n",
    "batch_size"
   ]
  },
  {
   "cell_type": "code",
   "execution_count": null,
   "metadata": {},
   "outputs": [],
   "source": [
    "fig = plt.figure(figsize=(18,32))\n",
    "fig.show()"
   ]
  },
  {
   "cell_type": "code",
   "execution_count": null,
   "metadata": {},
   "outputs": [],
   "source": [
    "plt.figure(figsize=(18,32))\n",
    "for i in range(batch_size):\n",
    "    for j in range(9):\n",
    "        num = i*9+j+1\n",
    "        plt.subplot(batch_size,9,num)\n",
    "        plt.imshow(random[i,j,:,:].detach().cpu().numpy(),cmap='gray')\n",
    "        ax = plt.gca()\n",
    "        ax.axes.xaxis.set_visible(False)\n",
    "        ax.axes.yaxis.set_visible(False)\n",
    "        if i == 0:\n",
    "            ax.set_title(list(dict_room_encode.keys())[j])\n",
    "plt.subplots_adjust(wspace =0.1, hspace =0.1)\n",
    "plt.show()"
   ]
  },
  {
   "cell_type": "code",
   "execution_count": null,
   "metadata": {},
   "outputs": [],
   "source": [
    "#生成图像\n",
    "generated = discriminator.render(batch_cuda[0])[0]\n",
    "#plt.figure(figsize=(15,15))\n",
    "for i in range(9):\n",
    "    plt.figure(figsize=(5,5))\n",
    "    #plt.subplot(3,3,i+1)\n",
    "    plt.imshow(generated[i].detach().cpu().numpy(),cmap='gray')\n",
    "    plt.title(list(dict_room_encode.keys())[i])\n",
    "    plt.axis('off')\n",
    "    plt.savefig('{}.png'.format(str(i)))\n",
    "plt.show()"
   ]
  },
  {
   "cell_type": "code",
   "execution_count": null,
   "metadata": {},
   "outputs": [],
   "source": [
    "generator(batch_cuda)[0]"
   ]
  },
  {
   "cell_type": "code",
   "execution_count": null,
   "metadata": {},
   "outputs": [],
   "source": [
    "for param in generator.named_parameters():\n",
    "    print(param[1].data)"
   ]
  }
 ],
 "metadata": {
  "interpreter": {
   "hash": "ce0dab6dc55d2a84c1a381004456cc5ed90d9b1a613df85eaf6463029436a961"
  },
  "kernelspec": {
   "display_name": "Python [conda env:diffrender]",
   "language": "python",
   "name": "python3"
  },
  "language_info": {
   "codemirror_mode": {
    "name": "ipython",
    "version": 3
   },
   "file_extension": ".py",
   "mimetype": "text/x-python",
   "name": "python",
   "nbconvert_exporter": "python",
   "pygments_lexer": "ipython3",
   "version": "3.6.10"
  },
  "toc": {
   "base_numbering": 1,
   "nav_menu": {},
   "number_sections": true,
   "sideBar": true,
   "skip_h1_title": false,
   "title_cell": "Table of Contents",
   "title_sidebar": "Contents",
   "toc_cell": false,
   "toc_position": {},
   "toc_section_display": true,
   "toc_window_display": false
  },
  "varInspector": {
   "cols": {
    "lenName": 16,
    "lenType": 16,
    "lenVar": 40
   },
   "kernels_config": {
    "python": {
     "delete_cmd_postfix": "",
     "delete_cmd_prefix": "del ",
     "library": "var_list.py",
     "varRefreshCmd": "print(var_dic_list())"
    },
    "r": {
     "delete_cmd_postfix": ") ",
     "delete_cmd_prefix": "rm(",
     "library": "var_list.r",
     "varRefreshCmd": "cat(var_dic_list()) "
    }
   },
   "types_to_exclude": [
    "module",
    "function",
    "builtin_function_or_method",
    "instance",
    "_Feature"
   ],
   "window_display": false
  }
 },
 "nbformat": 4,
 "nbformat_minor": 2
}
