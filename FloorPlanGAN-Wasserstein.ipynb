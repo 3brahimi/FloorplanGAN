{
 "cells": [
  {
   "cell_type": "markdown",
   "metadata": {},
   "source": [
    "# 1. 加载数据"
   ]
  },
  {
   "cell_type": "code",
   "execution_count": 1,
   "metadata": {
    "ExecuteTime": {
     "end_time": "2020-08-26T08:13:06.756954Z",
     "start_time": "2020-08-26T08:13:06.138595Z"
    }
   },
   "outputs": [],
   "source": [
    "import scipy \n",
    "import os\n",
    "import socket\n",
    "import pickle\n",
    "import numpy as np\n",
    "import pandas as pd\n",
    "from matplotlib import pyplot as plt\n",
    "from datetime import datetime\n",
    "import time\n",
    "from tqdm import tqdm\n",
    "from imp import reload\n",
    "\n",
    "from dataset import generate_random_layout, wireframeDataset_Rplan\n",
    "from models import Generator,VectorDiscriminator, WireframeDiscriminator, weight_init\n",
    "\n",
    "import torch\n",
    "import torch.nn as nn\n",
    "import torch.nn.functional as F\n",
    "import torch.optim as optim\n",
    "from torch.utils.data import DataLoader\n",
    "from tensorboardX import SummaryWriter"
   ]
  },
  {
   "cell_type": "code",
   "execution_count": 2,
   "metadata": {},
   "outputs": [
    {
     "data": {
      "text/plain": [
       "'1.7.1'"
      ]
     },
     "execution_count": 2,
     "metadata": {},
     "output_type": "execute_result"
    }
   ],
   "source": [
    "torch.__version__"
   ]
  },
  {
   "cell_type": "code",
   "execution_count": 3,
   "metadata": {
    "ExecuteTime": {
     "end_time": "2020-08-26T08:13:06.769919Z",
     "start_time": "2020-08-26T08:13:06.758930Z"
    }
   },
   "outputs": [],
   "source": [
    "def bounds_check(generated):\n",
    "    loc = generated[:,:,-4:]\n",
    "    xc,yc,area_root,w = loc[:,:,0],loc[:,:,1],loc[:,:,2],loc[:,:,3]\n",
    "    h = area_root**2/w\n",
    "    try:\n",
    "        h[h != h] = 0\n",
    "    except:\n",
    "        pass\n",
    "    x0 = xc-0.5*w\n",
    "    x1 = xc+0.5*w\n",
    "    y0 = yc-0.5*h\n",
    "    y1 = yc+0.5*h\n",
    "    def loss_(c):\n",
    "        return (F.relu(c)- c + F.relu(1-c) - (1-c)).sum()\n",
    "    loss = loss_(x0)+loss_(y0)+loss_(x1)+loss_(y1)\n",
    "    return loss\n",
    "\n",
    "def get_figure(render):\n",
    "    batch_size = render.shape[0]\n",
    "    num_channel = render.shape[1]\n",
    "    fig = plt.figure(figsize=(18,18))\n",
    "    for i in range(batch_size):\n",
    "        for j in range(num_channel):\n",
    "            num = i*(num_channel+1)+j+1\n",
    "            ax = fig.add_subplot(batch_size,num_channel+1,num) \n",
    "            ax.imshow(render[i,j,:,:].detach().cpu().numpy(),cmap='gray',vmin=0.,vmax=1.)\n",
    "            ax.axes.xaxis.set_visible(False)\n",
    "            ax.axes.yaxis.set_visible(False)\n",
    "            if i == 0:\n",
    "                ax.set_title(str(j))\n",
    "        ax = fig.add_subplot(batch_size,num_channel+1,num+1) \n",
    "        ax.imshow(render[i,:,:,:].detach().cpu().numpy().sum(axis=0),cmap='gray',vmin=0.,vmax=1.)\n",
    "        if i == 0:\n",
    "                ax.set_title('floorplan')\n",
    "    fig.subplots_adjust(wspace =0.1, hspace =0.1)\n",
    "    return fig\n",
    "\n",
    "def draw_table(df):\n",
    "    if type(df)== torch.Tensor:\n",
    "        df = df.cpu().detach().numpy()\n",
    "    table = plt.figure(figsize=(16,2))\n",
    "    ax = table.add_subplot(111)\n",
    "    ax.table(np.around(df, decimals=6),loc='center')\n",
    "    ax.axis('off')\n",
    "    return table"
   ]
  },
  {
   "cell_type": "markdown",
   "metadata": {},
   "source": [
    "# 2. LayoutGAN模型"
   ]
  },
  {
   "cell_type": "markdown",
   "metadata": {},
   "source": [
    "### 2.1 dataset"
   ]
  },
  {
   "cell_type": "code",
   "execution_count": 4,
   "metadata": {
    "scrolled": true
   },
   "outputs": [
    {
     "name": "stdout",
     "output_type": "stream",
     "text": [
      "using dataset:\trplan\n",
      "hostname:\tubuntuStation\n",
      "date:\t\t2021-03-23\n"
     ]
    }
   ],
   "source": [
    "#########################################################################################################\n",
    "dataset_name = 'rplan'\n",
    "rooms=None\n",
    "subset_name=''#'names_0-1_1-1_2-1_3-1_4-0_5-0_6-0_7-1_8-0_9-1.pkl'#'morethan_2000.pkl'\n",
    "fixed_z_file = './fixed_z/fixed_xyaw_{0}_0318.pkl'.format(dataset_name)\n",
    "annotation = None\n",
    "tensorboard= False\n",
    "#########################################################################################################\n",
    "\n",
    "hostname = socket.gethostname()\n",
    "if hostname == 'ubuntuStation':\n",
    "    path ='../../data_FloorPlan'\n",
    "    path_rplan = '../../data_RPLAN/floorplan_dataset/pkls'\n",
    "elif hostname == 'LAPTOP-LUOZN':\n",
    "    path = 'E:\\Seafile\\data_FloorPlan'\n",
    "    path_rplan = 'E:\\\\Seafile\\\\data_RPLAN\\\\floorplan_dataset\\\\pkls'\n",
    "\n",
    "device = torch.device(\"cuda:0\" if torch.cuda.is_available() else \"cpu\")\n",
    "date = datetime.now().strftime('%Y-%m-%d')\n",
    "time_ = datetime.now().strftime('%H:%M:%S')\n",
    "\n",
    "print('using dataset:\\t{}'.format(dataset_name))\n",
    "print('hostname:\\t{}'.format(hostname))\n",
    "print('date:\\t\\t{}'.format(date))"
   ]
  },
  {
   "cell_type": "code",
   "execution_count": 5,
   "metadata": {
    "ExecuteTime": {
     "end_time": "2020-08-26T08:13:09.788830Z",
     "start_time": "2020-08-26T08:13:09.265366Z"
    }
   },
   "outputs": [
    {
     "name": "stderr",
     "output_type": "stream",
     "text": [
      "100%|██████████| 80788/80788 [00:27<00:00, 2955.37it/s]\n",
      "100%|██████████| 80788/80788 [00:15<00:00, 5369.49it/s]\n"
     ]
    }
   ],
   "source": [
    "import dataset\n",
    "reload(dataset)\n",
    "from dataset import generate_random_layout, wireframeDataset_Rplan\n",
    "\n",
    "if dataset_name == 'floorplan':\n",
    "    real_dataset = wireframeDataset_Floorplan(path = path)\n",
    "    pkl_name = './params/params_floorplan_{0}.pkl'.format(date)\n",
    "    batch_size = 16\n",
    "    log_dir='runs_floorplan'\n",
    "elif dataset_name == 'rplan':\n",
    "    real_dataset = wireframeDataset_Rplan(path = path_rplan,subset_name=subset_name)\n",
    "    pkl_name = './params/params_rplan_{0}.pkl'.format(date)\n",
    "    batch_size = 128\n",
    "    log_dir='runs_rplan'\n",
    "#pkl_name = './params/params_Gtest_{}.pkl'.format(date)\n",
    "real_dataloader = DataLoader(real_dataset,batch_size,shuffle=True,num_workers=0,drop_last=True)"
   ]
  },
  {
   "cell_type": "code",
   "execution_count": 6,
   "metadata": {
    "scrolled": true
   },
   "outputs": [
    {
     "data": {
      "image/png": "[encoded data removed]",
      "text/plain": [
       "<Figure size 864x360 with 8 Axes>"
      ]
     },
     "metadata": {
      "needs_background": "light"
     },
     "output_type": "display_data"
    }
   ],
   "source": [
    "fake_images = generate_random_layout(real_dataset,batch_size=8)\n",
    "plt.figure(figsize=(12,5))\n",
    "for i in range(fake_images[0].shape[0]):\n",
    "    plt.subplot(1,fake_images[0].shape[0],i+1)\n",
    "    plt.imshow(fake_images[0][i,:,:-4])\n",
    "plt.show()\n",
    "#fake_images[0][0,:,:-4]"
   ]
  },
  {
   "cell_type": "code",
   "execution_count": 7,
   "metadata": {
    "ExecuteTime": {
     "end_time": "2020-08-26T08:13:11.453130Z",
     "start_time": "2020-08-26T08:13:09.789828Z"
    }
   },
   "outputs": [],
   "source": [
    "#固定的随机layout\n",
    "#fixed_z_file = './fixed_z/fixed_xyaw_{0}_{1}.pkl'.format(dataset,'_'.join([str(r) for r in rooms]))\n",
    "\n",
    "if not os.path.exists(fixed_z_file):\n",
    "    fixed = generate_random_layout(real_dataset, 8)\n",
    "    #fixed_images = [torch.tensor(x).to(device) for x in fixed]\n",
    "    with open(fixed_z_file, 'wb') as output:\n",
    "        pickle.dump(fixed,output)\n",
    "    print('generating'+ fixed_z_file)"
   ]
  },
  {
   "cell_type": "code",
   "execution_count": 8,
   "metadata": {},
   "outputs": [],
   "source": [
    "with open(fixed_z_file, 'rb') as pkl_file:\n",
    "    fixed_z = pickle.load(pkl_file)\n",
    "fixed_z = [torch.tensor(x).to(device) for x in fixed_z]"
   ]
  },
  {
   "cell_type": "code",
   "execution_count": 9,
   "metadata": {},
   "outputs": [
    {
     "data": {
      "text/plain": [
       "[tensor([[[1.0000, 0.0000, 0.0000, 0.0000, 0.0000, 0.0000, 0.0000, 0.0000,\n",
       "           0.0000, 0.0000, 0.4979, 0.4945, 0.3493, 0.3269],\n",
       "          [0.0000, 1.0000, 0.0000, 0.0000, 0.0000, 0.0000, 0.0000, 0.0000,\n",
       "           0.0000, 0.0000, 0.3051, 0.4893, 0.2191, 0.1895],\n",
       "          [0.0000, 0.0000, 1.0000, 0.0000, 0.0000, 0.0000, 0.0000, 0.0000,\n",
       "           0.0000, 0.0000, 0.6155, 0.5447, 0.0940, 0.1022],\n",
       "          [0.0000, 0.0000, 0.0000, 1.0000, 0.0000, 0.0000, 0.0000, 0.0000,\n",
       "           0.0000, 0.0000, 0.6738, 0.6095, 0.1094, 0.1596],\n",
       "          [0.0000, 0.0000, 0.0000, 0.0000, 0.0000, 0.0000, 0.0000, 1.0000,\n",
       "           0.0000, 0.0000, 0.3411, 0.1911, 0.1426, 0.1324],\n",
       "          [0.0000, 0.0000, 0.0000, 0.0000, 0.0000, 0.0000, 0.0000, 0.0000,\n",
       "           0.0000, 1.0000, 0.5548, 0.6829, 0.0676, 0.0441],\n",
       "          [0.0000, 0.0000, 0.0000, 0.0000, 0.0000, 0.0000, 0.0000, 0.0000,\n",
       "           0.0000, 0.0000, 0.0000, 0.0000, 0.0000, 0.0000],\n",
       "          [0.0000, 0.0000, 0.0000, 0.0000, 0.0000, 0.0000, 0.0000, 0.0000,\n",
       "           0.0000, 0.0000, 0.0000, 0.0000, 0.0000, 0.0000]],\n",
       " \n",
       "         [[1.0000, 0.0000, 0.0000, 0.0000, 0.0000, 0.0000, 0.0000, 0.0000,\n",
       "           0.0000, 0.0000, 0.3421, 0.5234, 0.4371, 0.3926],\n",
       "          [0.0000, 1.0000, 0.0000, 0.0000, 0.0000, 0.0000, 0.0000, 0.0000,\n",
       "           0.0000, 0.0000, 0.3531, 0.6277, 0.2434, 0.2254],\n",
       "          [0.0000, 0.0000, 1.0000, 0.0000, 0.0000, 0.0000, 0.0000, 0.0000,\n",
       "           0.0000, 0.0000, 0.4269, 0.4443, 0.1528, 0.1478],\n",
       "          [0.0000, 0.0000, 0.0000, 1.0000, 0.0000, 0.0000, 0.0000, 0.0000,\n",
       "           0.0000, 0.0000, 0.5117, 0.6279, 0.0826, 0.1006],\n",
       "          [0.0000, 0.0000, 0.0000, 0.0000, 0.0000, 0.0000, 0.0000, 1.0000,\n",
       "           0.0000, 0.0000, 0.4142, 0.5681, 0.1362, 0.1982],\n",
       "          [0.0000, 0.0000, 0.0000, 0.0000, 0.0000, 0.0000, 0.0000, 1.0000,\n",
       "           0.0000, 0.0000, 0.5599, 0.5446, 0.2061, 0.2028],\n",
       "          [0.0000, 0.0000, 0.0000, 0.0000, 0.0000, 0.0000, 0.0000, 0.0000,\n",
       "           0.0000, 0.0000, 0.0000, 0.0000, 0.0000, 0.0000],\n",
       "          [0.0000, 0.0000, 0.0000, 0.0000, 0.0000, 0.0000, 0.0000, 0.0000,\n",
       "           0.0000, 0.0000, 0.0000, 0.0000, 0.0000, 0.0000]],\n",
       " \n",
       "         [[1.0000, 0.0000, 0.0000, 0.0000, 0.0000, 0.0000, 0.0000, 0.0000,\n",
       "           0.0000, 0.0000, 0.4208, 0.6111, 0.3973, 0.2596],\n",
       "          [0.0000, 1.0000, 0.0000, 0.0000, 0.0000, 0.0000, 0.0000, 0.0000,\n",
       "           0.0000, 0.0000, 0.4421, 0.6117, 0.1891, 0.2090],\n",
       "          [0.0000, 0.0000, 1.0000, 0.0000, 0.0000, 0.0000, 0.0000, 0.0000,\n",
       "           0.0000, 0.0000, 0.5756, 0.3944, 0.1045, 0.1099],\n",
       "          [0.0000, 0.0000, 0.0000, 1.0000, 0.0000, 0.0000, 0.0000, 0.0000,\n",
       "           0.0000, 0.0000, 0.7862, 0.3641, 0.1123, 0.1178],\n",
       "          [0.0000, 0.0000, 0.0000, 0.0000, 0.0000, 0.0000, 0.0000, 1.0000,\n",
       "           0.0000, 0.0000, 0.7612, 0.4792, 0.2211, 0.2075],\n",
       "          [0.0000, 0.0000, 0.0000, 0.0000, 0.0000, 0.0000, 0.0000, 0.0000,\n",
       "           0.0000, 1.0000, 0.8249, 0.5043, 0.1581, 0.2026],\n",
       "          [0.0000, 0.0000, 0.0000, 0.0000, 0.0000, 0.0000, 0.0000, 0.0000,\n",
       "           0.0000, 0.0000, 0.0000, 0.0000, 0.0000, 0.0000],\n",
       "          [0.0000, 0.0000, 0.0000, 0.0000, 0.0000, 0.0000, 0.0000, 0.0000,\n",
       "           0.0000, 0.0000, 0.0000, 0.0000, 0.0000, 0.0000]],\n",
       " \n",
       "         [[1.0000, 0.0000, 0.0000, 0.0000, 0.0000, 0.0000, 0.0000, 0.0000,\n",
       "           0.0000, 0.0000, 0.4802, 0.4677, 0.3618, 0.4088],\n",
       "          [0.0000, 1.0000, 0.0000, 0.0000, 0.0000, 0.0000, 0.0000, 0.0000,\n",
       "           0.0000, 0.0000, 0.4916, 0.7004, 0.1987, 0.1563],\n",
       "          [0.0000, 1.0000, 0.0000, 0.0000, 0.0000, 0.0000, 0.0000, 0.0000,\n",
       "           0.0000, 0.0000, 0.4149, 0.6637, 0.1912, 0.1549],\n",
       "          [0.0000, 0.0000, 1.0000, 0.0000, 0.0000, 0.0000, 0.0000, 0.0000,\n",
       "           0.0000, 0.0000, 0.6279, 0.4496, 0.1551, 0.1800],\n",
       "          [0.0000, 0.0000, 0.0000, 1.0000, 0.0000, 0.0000, 0.0000, 0.0000,\n",
       "           0.0000, 0.0000, 0.6050, 0.3745, 0.1173, 0.0948],\n",
       "          [0.0000, 0.0000, 0.0000, 0.0000, 0.0000, 0.0000, 0.0000, 0.0000,\n",
       "           0.0000, 1.0000, 0.6053, 0.7806, 0.0959, 0.1501],\n",
       "          [0.0000, 0.0000, 0.0000, 0.0000, 0.0000, 0.0000, 0.0000, 0.0000,\n",
       "           0.0000, 0.0000, 0.0000, 0.0000, 0.0000, 0.0000],\n",
       "          [0.0000, 0.0000, 0.0000, 0.0000, 0.0000, 0.0000, 0.0000, 0.0000,\n",
       "           0.0000, 0.0000, 0.0000, 0.0000, 0.0000, 0.0000]],\n",
       " \n",
       "         [[1.0000, 0.0000, 0.0000, 0.0000, 0.0000, 0.0000, 0.0000, 0.0000,\n",
       "           0.0000, 0.0000, 0.5368, 0.3890, 0.3658, 0.2963],\n",
       "          [0.0000, 1.0000, 0.0000, 0.0000, 0.0000, 0.0000, 0.0000, 0.0000,\n",
       "           0.0000, 0.0000, 0.3407, 0.2794, 0.2324, 0.1978],\n",
       "          [0.0000, 0.0000, 1.0000, 0.0000, 0.0000, 0.0000, 0.0000, 0.0000,\n",
       "           0.0000, 0.0000, 0.4883, 0.2924, 0.1276, 0.1812],\n",
       "          [0.0000, 0.0000, 0.0000, 1.0000, 0.0000, 0.0000, 0.0000, 0.0000,\n",
       "           0.0000, 0.0000, 0.5057, 0.2940, 0.0943, 0.0813],\n",
       "          [0.0000, 0.0000, 0.0000, 0.0000, 0.0000, 0.0000, 0.0000, 1.0000,\n",
       "           0.0000, 0.0000, 0.2749, 0.5869, 0.2026, 0.2362],\n",
       "          [0.0000, 0.0000, 0.0000, 0.0000, 0.0000, 0.0000, 0.0000, 1.0000,\n",
       "           0.0000, 0.0000, 0.4368, 0.6753, 0.1920, 0.1596],\n",
       "          [0.0000, 0.0000, 0.0000, 0.0000, 0.0000, 0.0000, 0.0000, 0.0000,\n",
       "           0.0000, 1.0000, 0.5406, 0.8431, 0.1086, 0.1818],\n",
       "          [0.0000, 0.0000, 0.0000, 0.0000, 0.0000, 0.0000, 0.0000, 0.0000,\n",
       "           0.0000, 0.0000, 0.0000, 0.0000, 0.0000, 0.0000]],\n",
       " \n",
       "         [[1.0000, 0.0000, 0.0000, 0.0000, 0.0000, 0.0000, 0.0000, 0.0000,\n",
       "           0.0000, 0.0000, 0.5726, 0.5345, 0.3864, 0.6309],\n",
       "          [0.0000, 1.0000, 0.0000, 0.0000, 0.0000, 0.0000, 0.0000, 0.0000,\n",
       "           0.0000, 0.0000, 0.4293, 0.4597, 0.1946, 0.1792],\n",
       "          [0.0000, 0.0000, 1.0000, 0.0000, 0.0000, 0.0000, 0.0000, 0.0000,\n",
       "           0.0000, 0.0000, 0.5475, 0.3398, 0.1363, 0.1193],\n",
       "          [0.0000, 0.0000, 0.0000, 1.0000, 0.0000, 0.0000, 0.0000, 0.0000,\n",
       "           0.0000, 0.0000, 0.6219, 0.3658, 0.0969, 0.0996],\n",
       "          [0.0000, 0.0000, 0.0000, 1.0000, 0.0000, 0.0000, 0.0000, 0.0000,\n",
       "           0.0000, 0.0000, 0.6991, 0.2661, 0.1342, 0.1962],\n",
       "          [0.0000, 0.0000, 0.0000, 0.0000, 0.0000, 0.0000, 0.0000, 1.0000,\n",
       "           0.0000, 0.0000, 0.2848, 0.2361, 0.1498, 0.1370],\n",
       "          [0.0000, 0.0000, 0.0000, 0.0000, 0.0000, 0.0000, 0.0000, 0.0000,\n",
       "           0.0000, 1.0000, 0.8672, 0.3669, 0.1105, 0.1484],\n",
       "          [0.0000, 0.0000, 0.0000, 0.0000, 0.0000, 0.0000, 0.0000, 0.0000,\n",
       "           0.0000, 1.0000, 0.5597, 1.0000, 0.0229, 0.0261]],\n",
       " \n",
       "         [[1.0000, 0.0000, 0.0000, 0.0000, 0.0000, 0.0000, 0.0000, 0.0000,\n",
       "           0.0000, 0.0000, 0.6632, 0.5458, 0.3987, 0.3138],\n",
       "          [0.0000, 1.0000, 0.0000, 0.0000, 0.0000, 0.0000, 0.0000, 0.0000,\n",
       "           0.0000, 0.0000, 0.5223, 0.6025, 0.1800, 0.1660],\n",
       "          [0.0000, 0.0000, 1.0000, 0.0000, 0.0000, 0.0000, 0.0000, 0.0000,\n",
       "           0.0000, 0.0000, 0.5410, 0.3494, 0.1360, 0.1325],\n",
       "          [0.0000, 0.0000, 0.0000, 1.0000, 0.0000, 0.0000, 0.0000, 0.0000,\n",
       "           0.0000, 0.0000, 0.4052, 0.5709, 0.1091, 0.0881],\n",
       "          [0.0000, 0.0000, 0.0000, 0.0000, 0.0000, 0.0000, 0.0000, 1.0000,\n",
       "           0.0000, 0.0000, 0.8340, 0.6757, 0.1940, 0.1969],\n",
       "          [0.0000, 0.0000, 0.0000, 0.0000, 0.0000, 0.0000, 0.0000, 0.0000,\n",
       "           0.0000, 1.0000, 0.4166, 0.8135, 0.0966, 0.1173],\n",
       "          [0.0000, 0.0000, 0.0000, 0.0000, 0.0000, 0.0000, 0.0000, 0.0000,\n",
       "           0.0000, 1.0000, 0.7439, 0.6832, 0.1221, 0.0870],\n",
       "          [0.0000, 0.0000, 0.0000, 0.0000, 0.0000, 0.0000, 0.0000, 0.0000,\n",
       "           0.0000, 0.0000, 0.0000, 0.0000, 0.0000, 0.0000]],\n",
       " \n",
       "         [[1.0000, 0.0000, 0.0000, 0.0000, 0.0000, 0.0000, 0.0000, 0.0000,\n",
       "           0.0000, 0.0000, 0.4445, 0.5097, 0.3805, 0.4659],\n",
       "          [0.0000, 1.0000, 0.0000, 0.0000, 0.0000, 0.0000, 0.0000, 0.0000,\n",
       "           0.0000, 0.0000, 0.6015, 0.7149, 0.2069, 0.2248],\n",
       "          [0.0000, 0.0000, 1.0000, 0.0000, 0.0000, 0.0000, 0.0000, 0.0000,\n",
       "           0.0000, 0.0000, 0.3922, 0.4931, 0.1395, 0.2010],\n",
       "          [0.0000, 0.0000, 0.0000, 1.0000, 0.0000, 0.0000, 0.0000, 0.0000,\n",
       "           0.0000, 0.0000, 0.5403, 0.4935, 0.1352, 0.1296],\n",
       "          [0.0000, 0.0000, 0.0000, 1.0000, 0.0000, 0.0000, 0.0000, 0.0000,\n",
       "           0.0000, 0.0000, 0.7741, 0.5839, 0.0920, 0.1151],\n",
       "          [0.0000, 0.0000, 0.0000, 0.0000, 0.0000, 0.0000, 0.0000, 1.0000,\n",
       "           0.0000, 0.0000, 0.4126, 0.3822, 0.1870, 0.1798],\n",
       "          [0.0000, 0.0000, 0.0000, 0.0000, 0.0000, 0.0000, 0.0000, 1.0000,\n",
       "           0.0000, 0.0000, 0.4030, 0.0949, 0.1643, 0.1671],\n",
       "          [0.0000, 0.0000, 0.0000, 0.0000, 0.0000, 0.0000, 0.0000, 0.0000,\n",
       "           0.0000, 1.0000, 0.5627, 0.8338, 0.1118, 0.2304]]], device='cuda:0'),\n",
       " tensor([[False, False, False, False, False, False,  True,  True],\n",
       "         [False, False, False, False, False, False,  True,  True],\n",
       "         [False, False, False, False, False, False,  True,  True],\n",
       "         [False, False, False, False, False, False,  True,  True],\n",
       "         [False, False, False, False, False, False, False,  True],\n",
       "         [False, False, False, False, False, False, False, False],\n",
       "         [False, False, False, False, False, False, False,  True],\n",
       "         [False, False, False, False, False, False, False, False]],\n",
       "        device='cuda:0')]"
      ]
     },
     "execution_count": 9,
     "metadata": {},
     "output_type": "execute_result"
    }
   ],
   "source": [
    "fixed_z"
   ]
  },
  {
   "cell_type": "markdown",
   "metadata": {},
   "source": [
    "### 2.3 初始化"
   ]
  },
  {
   "cell_type": "code",
   "execution_count": 10,
   "metadata": {
    "ExecuteTime": {
     "end_time": "2020-08-26T08:13:11.625953Z",
     "start_time": "2020-08-26T08:13:11.463120Z"
    }
   },
   "outputs": [
    {
     "name": "stdout",
     "output_type": "stream",
     "text": [
      "create_new_model\n"
     ]
    }
   ],
   "source": [
    "######################################################\n",
    "learning_rate = 0.00005\n",
    "clamp_num = 0.01\n",
    "num_epochs = 3000 \n",
    "tensorboard_interval = 100\n",
    "discriminator_losses=[]\n",
    "generator_losses=[]\n",
    "boundray_losses=[]\n",
    "######################################################\n",
    "\n",
    "import models\n",
    "reload(models)\n",
    "from models import Generator, VectorDiscriminator, WireframeDiscriminator, weight_init\n",
    "\n",
    "generator = Generator(dataset=real_dataset)\n",
    "generator.apply(weight_init)\n",
    "generator = nn.DataParallel(generator)\n",
    "generator.to(device)\n",
    "discriminator = VectorDiscriminator(dataset=real_dataset)\n",
    "render = WireframeDiscriminator(dataset=real_dataset).render\n",
    "discriminator.apply(weight_init)\n",
    "discriminator = nn.DataParallel(discriminator)\n",
    "discriminator.to(device)\n",
    "\n",
    "\n",
    "#Initialize optimizers.\n",
    "generator_optimizer = optim.RMSprop(generator.parameters(), learning_rate)\n",
    "discriminator_optimizer = optim.RMSprop(discriminator.parameters(), learning_rate)#Wasserstein GAN推荐使用RMSProp优化\n",
    "\n",
    "if os.path.exists(pkl_name):\n",
    "    checkpoint = torch.load(pkl_name)\n",
    "    generator.load_state_dict(checkpoint['generator_state_dict'])\n",
    "    generator_optimizer.load_state_dict(checkpoint['generator_optimizer_state_dict'])\n",
    "    discriminator.load_state_dict(checkpoint['discriminator_state_dict'])\n",
    "    discriminator_optimizer.load_state_dict(checkpoint['discriminator_optimizer_state_dict'])\n",
    "    epoch_last = checkpoint['epoch']\n",
    "    n_iter = checkpoint['n_iter']\n",
    "    print('load_previous_model')\n",
    "else:\n",
    "    epoch_last = 0\n",
    "    # global step\n",
    "    n_iter = -1\n",
    "    print('create_new_model')"
   ]
  },
  {
   "cell_type": "code",
   "execution_count": 11,
   "metadata": {},
   "outputs": [
    {
     "name": "stdout",
     "output_type": "stream",
     "text": [
      "amount of parameters in generator:\t 378133011\n",
      "amount of parameters in discriminator:\t 10777626\n"
     ]
    }
   ],
   "source": [
    "print('amount of parameters in generator:\\t',sum(p.numel() for p in generator.parameters() if p.requires_grad))\n",
    "print('amount of parameters in discriminator:\\t',sum(p.numel() for p in discriminator.parameters() if p.requires_grad))"
   ]
  },
  {
   "cell_type": "markdown",
   "metadata": {},
   "source": [
    "### 检查rasterazition"
   ]
  },
  {
   "cell_type": "code",
   "execution_count": 14,
   "metadata": {},
   "outputs": [
    {
     "data": {
      "text/plain": [
       "[tensor([[[1.0000, 0.0000, 0.0000,  ..., 0.4395, 0.3789, 0.3555],\n",
       "          [0.0000, 1.0000, 0.0000,  ..., 0.6816, 0.1914, 0.1680],\n",
       "          [0.0000, 0.0000, 1.0000,  ..., 0.2344, 0.1328, 0.1406],\n",
       "          ...,\n",
       "          [0.0000, 0.0000, 0.0000,  ..., 0.8125, 0.1484, 0.0547],\n",
       "          [0.0000, 0.0000, 0.0000,  ..., 0.0000, 0.0000, 0.0000],\n",
       "          [0.0000, 0.0000, 0.0000,  ..., 0.0000, 0.0000, 0.0000]],\n",
       " \n",
       "         [[1.0000, 0.0000, 0.0000,  ..., 0.5546, 0.2737, 0.4611],\n",
       "          [0.0000, 1.0000, 0.0000,  ..., 0.6816, 0.1523, 0.2070],\n",
       "          [0.0000, 0.0000, 1.0000,  ..., 0.2715, 0.1523, 0.0820],\n",
       "          ...,\n",
       "          [0.0000, 0.0000, 0.0000,  ..., 0.8320, 0.1953, 0.0547],\n",
       "          [0.0000, 0.0000, 0.0000,  ..., 0.2285, 0.2383, 0.1680],\n",
       "          [0.0000, 0.0000, 0.0000,  ..., 0.0000, 0.0000, 0.0000]],\n",
       " \n",
       "         [[1.0000, 0.0000, 0.0000,  ..., 0.4609, 0.2969, 0.5156],\n",
       "          [0.0000, 1.0000, 0.0000,  ..., 0.7344, 0.1758, 0.1953],\n",
       "          [0.0000, 0.0000, 1.0000,  ..., 0.2168, 0.2188, 0.0898],\n",
       "          ...,\n",
       "          [0.0000, 0.0000, 0.0000,  ..., 0.0000, 0.0000, 0.0000],\n",
       "          [0.0000, 0.0000, 0.0000,  ..., 0.0000, 0.0000, 0.0000],\n",
       "          [0.0000, 0.0000, 0.0000,  ..., 0.0000, 0.0000, 0.0000]],\n",
       " \n",
       "         ...,\n",
       " \n",
       "         [[1.0000, 0.0000, 0.0000,  ..., 0.3750, 0.3516, 0.4844],\n",
       "          [0.0000, 1.0000, 0.0000,  ..., 0.7070, 0.1653, 0.3359],\n",
       "          [0.0000, 0.0000, 1.0000,  ..., 0.2988, 0.0820, 0.1680],\n",
       "          ...,\n",
       "          [0.0000, 0.0000, 0.0000,  ..., 0.4473, 0.1641, 0.1602],\n",
       "          [0.0000, 0.0000, 0.0000,  ..., 0.2793, 0.1523, 0.2070],\n",
       "          [0.0000, 0.0000, 0.0000,  ..., 0.1641, 0.1289, 0.0625]],\n",
       " \n",
       "         [[1.0000, 0.0000, 0.0000,  ..., 0.4570, 0.3281, 0.5078],\n",
       "          [0.0000, 1.0000, 0.0000,  ..., 0.3398, 0.3633, 0.1797],\n",
       "          [0.0000, 0.0000, 1.0000,  ..., 0.7656, 0.2188, 0.0703],\n",
       "          ...,\n",
       "          [0.0000, 0.0000, 0.0000,  ..., 0.6152, 0.1680, 0.1914],\n",
       "          [0.0000, 0.0000, 0.0000,  ..., 0.5801, 0.2578, 0.2617],\n",
       "          [0.0000, 0.0000, 0.0000,  ..., 0.7656, 0.1719, 0.0703]],\n",
       " \n",
       "         [[1.0000, 0.0000, 0.0000,  ..., 0.5859, 0.3086, 0.4766],\n",
       "          [0.0000, 1.0000, 0.0000,  ..., 0.6758, 0.1758, 0.1953],\n",
       "          [0.0000, 0.0000, 1.0000,  ..., 0.3887, 0.1133, 0.0742],\n",
       "          ...,\n",
       "          [0.0000, 0.0000, 0.0000,  ..., 0.2363, 0.1367, 0.1914],\n",
       "          [0.0000, 0.0000, 0.0000,  ..., 0.8281, 0.1758, 0.0703],\n",
       "          [0.0000, 0.0000, 0.0000,  ..., 0.0000, 0.0000, 0.0000]]],\n",
       "        device='cuda:0'),\n",
       " tensor([[False, False, False,  ..., False,  True,  True],\n",
       "         [False, False, False,  ..., False, False,  True],\n",
       "         [False, False, False,  ...,  True,  True,  True],\n",
       "         ...,\n",
       "         [False, False, False,  ..., False, False, False],\n",
       "         [False, False, False,  ..., False, False, False],\n",
       "         [False, False, False,  ..., False, False,  True]], device='cuda:0')]"
      ]
     },
     "execution_count": 14,
     "metadata": {},
     "output_type": "execute_result"
    }
   ],
   "source": [
    "batch = iter(real_dataloader).next()\n",
    "batch = [x.to(device) for x in batch]\n",
    "batch"
   ]
  },
  {
   "cell_type": "code",
   "execution_count": 15,
   "metadata": {},
   "outputs": [],
   "source": [
    "generated = generator(batch[0],batch[1])"
   ]
  },
  {
   "cell_type": "code",
   "execution_count": 16,
   "metadata": {},
   "outputs": [
    {
     "data": {
      "text/plain": [
       "torch.Size([128, 8, 14])"
      ]
     },
     "execution_count": 16,
     "metadata": {},
     "output_type": "execute_result"
    }
   ],
   "source": [
    "generated[0].shape"
   ]
  },
  {
   "cell_type": "code",
   "execution_count": 17,
   "metadata": {},
   "outputs": [
    {
     "data": {
      "image/png": "[encoded data removed]",
      "text/plain": [
       "<Figure size 1296x1296 with 88 Axes>"
      ]
     },
     "execution_count": 17,
     "metadata": {},
     "output_type": "execute_result"
    },
    {
     "data": {
      "image/png": "[encoded data removed]",
      "text/plain": [
       "<Figure size 1296x1296 with 88 Axes>"
      ]
     },
     "metadata": {
      "needs_background": "light"
     },
     "output_type": "display_data"
    }
   ],
   "source": [
    "get_figure(render(generated[0][:8]))"
   ]
  },
  {
   "cell_type": "code",
   "execution_count": 20,
   "metadata": {},
   "outputs": [
    {
     "data": {
      "text/plain": [
       "tensor(-0.3249, device='cuda:0', grad_fn=<MeanBackward0>)"
      ]
     },
     "execution_count": 20,
     "metadata": {},
     "output_type": "execute_result"
    }
   ],
   "source": [
    "pred = discriminator(batch[0],batch[1])\n",
    "pred.mean()"
   ]
  },
  {
   "cell_type": "code",
   "execution_count": null,
   "metadata": {},
   "outputs": [],
   "source": [
    "get_figure(render(batch[0][:8]))"
   ]
  },
  {
   "cell_type": "code",
   "execution_count": null,
   "metadata": {},
   "outputs": [],
   "source": [
    "draw_table(batch[0][0])"
   ]
  },
  {
   "cell_type": "markdown",
   "metadata": {},
   "source": [
    "### 2.4 训练"
   ]
  },
  {
   "cell_type": "code",
   "execution_count": null,
   "metadata": {
    "scrolled": true
   },
   "outputs": [],
   "source": [
    "#log_dir = 'G_test'\n",
    "if tensorboard:\n",
    "    writer = SummaryWriter(log_dir=log_dir+'/'+date+' '+time_)\n",
    "\n",
    "#固定的随机噪声\n",
    "with open(fixed_z_file, 'rb') as pkl_file:\n",
    "    fixed_z = pickle.load(pkl_file)\n",
    "fixed_z = [torch.tensor(x).to(device) for x in fixed_z]\n",
    "discriminator.eval()\n",
    "fig_fixed= get_figure(render(fixed_z[0].detach()))\n",
    "if tensorboard:\n",
    "    writer.add_figure('fixed Z Image', fig_fixed, 1)"
   ]
  },
  {
   "cell_type": "code",
   "execution_count": null,
   "metadata": {},
   "outputs": [],
   "source": [
    "real_images = iter(real_dataloader).next()\n",
    "real_images = [x.to(device) for x in real_images]"
   ]
  },
  {
   "cell_type": "code",
   "execution_count": null,
   "metadata": {},
   "outputs": [],
   "source": [
    "random_images = generate_random_layout(real_dataset,batch_size)\n",
    "random_images = [torch.tensor(x).to(device) for x in random_images]"
   ]
  },
  {
   "cell_type": "code",
   "execution_count": null,
   "metadata": {
    "scrolled": true
   },
   "outputs": [],
   "source": [
    "get_figure(render(random_images[0][:4])).show()"
   ]
  },
  {
   "cell_type": "code",
   "execution_count": null,
   "metadata": {},
   "outputs": [],
   "source": [
    "fake_images = generator(random_images[0],random_images[1])\n",
    "get_figure(render(fake_images[0][:4])).show()"
   ]
  },
  {
   "cell_type": "code",
   "execution_count": null,
   "metadata": {
    "ExecuteTime": {
     "end_time": "2020-08-26T09:11:11.096007Z",
     "start_time": "2020-08-26T08:13:49.162581Z"
    },
    "scrolled": true
   },
   "outputs": [],
   "source": [
    "# Start training.\n",
    "for ec in range(num_epochs):\n",
    "    epoch = ec + epoch_last\n",
    "    print('Start to train epoch %d.' %(epoch))\n",
    "\n",
    "    for batch_i, real_images in enumerate(real_dataloader,0):\n",
    "        n_iter+=1\n",
    "\n",
    "        print('\\t iter {0} | batch {1} of epoch {2}'.format(n_iter, batch_i, epoch))\n",
    "\n",
    "        discriminator.train()\n",
    "        generator.train()\n",
    "\n",
    "        '''real_images = [torch.cat([F.relu(torch.normal(mean=real_images[0][:,:,:-4],std=0.02)),\\\n",
    "                                  real_images[0][:,:,-4:]],axis=-1),\\\n",
    "                       real_images[1]]#向真实数据加噪声'''\n",
    "        real_images = [x.to(device) for x in real_images]\n",
    "\n",
    "        random_images = generate_random_layout(real_dataset,batch_size)\n",
    "        random_images = [torch.tensor(x).to(device) for x in random_images]\n",
    "\n",
    "        '''for parm in discriminator.parameters():\n",
    "            parm.data.clamp_(-clamp_num, clamp_num)#权重裁剪'''\n",
    "\n",
    "        # 训练判别器\n",
    "        discriminator.zero_grad()\n",
    "        pred_real = discriminator(real_images[0])\n",
    "        pred_real.backward(torch.ones_like(pred_real).to(device))\n",
    "\n",
    "        fake_images = generator(random_images[0],random_images[1])\n",
    "        pred_fake = discriminator(fake_images[0].detach())\n",
    "        pred_fake.backward(-torch.ones_like(pred_real).to(device))\n",
    "\n",
    "        ##Gradient Penalty\n",
    "        alpha = torch.rand(batch_size, 1, 1)\n",
    "        alpha = alpha.expand(real_images[0].size())\n",
    "        alpha = alpha.to(device)\n",
    "        interpolates = alpha * real_images[0] + (1 - alpha) * fake_images[0].detach()\n",
    "        interpolates = torch.autograd.Variable(interpolates, requires_grad=True)\n",
    "        pred_interpolates = discriminator(interpolates)\n",
    "        gradients = torch.autograd.grad(outputs=pred_interpolates, inputs=interpolates,\n",
    "                          grad_outputs=torch.ones(pred_interpolates.size()).to(device),\n",
    "                          create_graph=True, retain_graph=True, only_inputs=True)[0]\n",
    "        gradient_penalty = ((gradients.norm(2, dim=1) - 1) ** 2).mean() * 10 #LAMBDA\n",
    "        gradient_penalty.backward()\n",
    "\n",
    "\n",
    "        discriminator_optimizer.step()\n",
    "\n",
    "        discriminator_loss = pred_fake.mean() - pred_real.mean() + gradient_penalty\n",
    "\n",
    "        if tensorboard:\n",
    "            discriminator_losses.append(discriminator_loss.cpu().detach().numpy())\n",
    "\n",
    "        if (batch_i+1)%5 == 0:\n",
    "        # 训练生成器\n",
    "            generator.zero_grad()\n",
    "\n",
    "            boundray_loss = bounds_check(fake_images[0])\n",
    "            boundray_loss.backward(retain_graph=True)\n",
    "\n",
    "            pred_fake = discriminator(fake_images[0])\n",
    "\n",
    "            pred_fake.backward(torch.ones_like(pred_real).to(device))\n",
    "            generator_optimizer.step()\n",
    "\n",
    "            generator_loss = pred_fake.mean()\n",
    "\n",
    "            if tensorboard:\n",
    "                generator_losses.append(generator_loss.cpu().detach().numpy())\n",
    "                boundray_losses.append(boundray_loss.cpu().detach().numpy())\n",
    "\n",
    "\n",
    "        # TensorboardX\n",
    "        if n_iter%tensorboard_interval == tensorboard_interval-1:\n",
    "            discriminator_losses = np.array(discriminator_losses)\n",
    "            generator_losses = np.array(generator_losses)\n",
    "            boundray_losses = np.array(boundray_losses)\n",
    "\n",
    "            print('\\t\\t N_iter {:7d} | Epoch [{:5d}/{:5d}] | discriminator_loss: {:6.4f} | generator_loss: {:6.4f}'.\n",
    "                format(n_iter, epoch, num_epochs, discriminator_losses.mean(), generator_losses.mean()))\n",
    "            if tensorboard:\n",
    "                generator.eval()\n",
    "                discriminator.eval()\n",
    "\n",
    "                #记录梯度\n",
    "                try:\n",
    "                    G_grads = [(name,weight.grad.mean()) for name, weight in generator.named_parameters() if weight.requires_grad]\n",
    "                    writer.add_scalar('G_grads 0 {}'.format(G_grads[0][0]), \\\n",
    "                        G_grads[0][1], n_iter)\n",
    "                    writer.add_scalar('G_grads -1 {}'.format(G_grads[-1][0]), \\\n",
    "                        G_grads[-1][1], n_iter)\n",
    "                except:\n",
    "                    print('G_layer_zero_grad')\n",
    "\n",
    "                try:\n",
    "                    D_grads = [(name,weight.grad.mean()) for name, weight in discriminator.named_parameters() if weight.requires_grad]\n",
    "                    writer.add_scalar('D_grads 0 {}'.format(D_grads[0][0]), \\\n",
    "                        D_grads[0][1], n_iter)\n",
    "                    writer.add_scalar('D_grads -1 {}'.format(D_grads[-1][0]), \\\n",
    "                        D_grads[-1][1], n_iter)\n",
    "                except:\n",
    "                    print('D_layer_zero_grad')\n",
    "\n",
    "                #记录loss\n",
    "                writer.add_scalar('Discriminator Loss', discriminator_losses.mean(), n_iter)\n",
    "                writer.add_scalar('Generator Loss', generator_losses.mean(), n_iter)\n",
    "                writer.add_scalar('Boundray Loss', boundray_losses.mean(), n_iter)\n",
    "\n",
    "                #记录网络权重\n",
    "                for name, param in discriminator.named_parameters():\n",
    "                    writer.add_histogram('Discriminator: '+ name, param.clone().detach().cpu().data.numpy(), n_iter)\n",
    "                for name, param in generator.named_parameters():\n",
    "                    writer.add_histogram('Generator: '+ name, param.clone().detach().cpu().data.numpy(), n_iter)\n",
    "\n",
    "                #每个epoch向tensorboard添加recall\n",
    "\n",
    "                real_pred = pred_real.detach().cpu().numpy()\n",
    "                random_pred = discriminator(random_images[0]).detach().cpu().numpy()\n",
    "                fake_pred = pred_fake.detach().cpu().numpy()\n",
    "\n",
    "                acc = plt.figure(figsize=(10,5))\n",
    "                ax = acc.add_subplot(111)\n",
    "                ax.hist(real_pred,alpha=0.5, density=True,bins=60)\n",
    "                ax.hist(random_pred,alpha=0.5, density=True,bins=60)\n",
    "                ax.hist(fake_pred,alpha=0.5, density=True,bins=60)\n",
    "                ax.legend(['real_pred','random_pred','fake_pred'])\n",
    "                writer.add_figure('prediction',acc, n_iter)\n",
    "\n",
    "\n",
    "                #可视化真实图像,添加到tensorboard\n",
    "                fig_real= get_figure(render(real_images[0][:8]))\n",
    "                writer.add_figure('Real Image',fig_real,n_iter)\n",
    "\n",
    "                #可视化Z生成图像\n",
    "                generated_z = generator(fixed_z[0],fixed_z[1])\n",
    "                fig_fake = get_figure(render(generated_z[0]))\n",
    "                writer.add_figure('Fake Image',fig_fake, n_iter)\n",
    "\n",
    "                table = draw_table(generated_z[0][4])\n",
    "                writer.add_figure('generated[4]',table, n_iter)\n",
    "\n",
    "            discriminator_losses=[]\n",
    "            generator_losses=[]\n",
    "            boundray_losses=[]\n",
    "\n",
    "\n",
    "    #在确认模型有效之前，暂不保存模型参数\n",
    "    torch.save({\n",
    "            'generator_state_dict': generator.state_dict(),\n",
    "            'generator_optimizer_state_dict': generator_optimizer.state_dict(),\n",
    "            'discriminator_state_dict': discriminator.state_dict(),\n",
    "            'discriminator_optimizer_state_dict': discriminator_optimizer.state_dict(),\n",
    "            'epoch': epoch,\n",
    "            'n_iter':n_iter,\n",
    "            }, pkl_name)\n",
    "    print('\\tparams saved to '+ pkl_name)\n",
    "\n",
    "if tensorboard:\n",
    "    writer.close()"
   ]
  },
  {
   "cell_type": "code",
   "execution_count": null,
   "metadata": {},
   "outputs": [],
   "source": [
    "writer.close()"
   ]
  },
  {
   "cell_type": "code",
   "execution_count": null,
   "metadata": {},
   "outputs": [],
   "source": [
    "generator.apply(weight_init)\n"
   ]
  },
  {
   "cell_type": "code",
   "execution_count": null,
   "metadata": {},
   "outputs": [],
   "source": [
    "generator.module.encoder_fc0.weight"
   ]
  },
  {
   "cell_type": "code",
   "execution_count": null,
   "metadata": {},
   "outputs": [],
   "source": [
    "pred_real = discriminator(real_images[0])\n",
    "discriminator_real_loss = real_loss(pred_real, smooth=0.9)\n",
    "discriminator_real_loss"
   ]
  },
  {
   "cell_type": "code",
   "execution_count": null,
   "metadata": {},
   "outputs": [],
   "source": [
    "fake_images = generator(random_images[0],random_images[1])\n",
    "pred_fake = discriminator(fake_images[0].detach())\n",
    "discriminator_fake_loss = fake_loss(pred_fake, smooth=0.1)#label smoothing\n",
    "discriminator_fake_loss"
   ]
  },
  {
   "cell_type": "code",
   "execution_count": null,
   "metadata": {},
   "outputs": [],
   "source": [
    "pred_fake = discriminator(fake_images[0])\n",
    "generator_loss = real_loss(pred_fake, False)\n",
    "generator_loss"
   ]
  },
  {
   "cell_type": "code",
   "execution_count": null,
   "metadata": {},
   "outputs": [],
   "source": [
    "random_images2 = generate_random_layout(real_dataset,batch_size)\n",
    "random_images2 = [torch.tensor(x).to(device) for x in random_images2]\n",
    "fake_images2 = generator(random_images2[0],random_images2[1])\n",
    "pred_fake2 = discriminator(fake_images2[0])\n",
    "generator_loss2 = real_loss(pred_fake2, False)\n",
    "generator_loss2"
   ]
  },
  {
   "cell_type": "code",
   "execution_count": null,
   "metadata": {},
   "outputs": [],
   "source": [
    "for name, param in generator.named_parameters():\n",
    "    print(name,param.clone().detach().cpu().data.numpy())"
   ]
  },
  {
   "cell_type": "code",
   "execution_count": null,
   "metadata": {},
   "outputs": [],
   "source": [
    "param"
   ]
  },
  {
   "cell_type": "code",
   "execution_count": null,
   "metadata": {},
   "outputs": [],
   "source": [
    "param.detach().cpu().data.numpy()"
   ]
  },
  {
   "cell_type": "code",
   "execution_count": null,
   "metadata": {},
   "outputs": [],
   "source": [
    "writer.close()"
   ]
  },
  {
   "cell_type": "code",
   "execution_count": null,
   "metadata": {},
   "outputs": [],
   "source": [
    "pred_fake"
   ]
  },
  {
   "cell_type": "code",
   "execution_count": null,
   "metadata": {},
   "outputs": [],
   "source": [
    "discriminator.train()\n",
    "generator.train()\n",
    "\n",
    "real_images = iter(real_dataloader).next()\n",
    "real_images = [torch.cat([torch.normal(mean=real_images[0][:,:,:-2],std=0.02),real_images[0][:,:,-2:]],axis=-1),real_images[1]]#向真实数据加噪声\n",
    "real_images = [x.to(device) for x in real_images]\n",
    "\n",
    "random_images = generate_random_layout(real_dataset,batch_size)\n",
    "random_images = [torch.tensor(x).to(device) for x in random_images]\n",
    "\n",
    "fake_images = generator(random_images[0],random_images[1])"
   ]
  },
  {
   "cell_type": "code",
   "execution_count": null,
   "metadata": {},
   "outputs": [],
   "source": [
    "real_images[0][0]"
   ]
  },
  {
   "cell_type": "code",
   "execution_count": null,
   "metadata": {
    "scrolled": true
   },
   "outputs": [],
   "source": [
    "get_figure(render(real_images[0][:8])).show()\n",
    "#fake_images"
   ]
  },
  {
   "cell_type": "code",
   "execution_count": null,
   "metadata": {},
   "outputs": [],
   "source": [
    "elements = real_images[0][:8]\n",
    "batch_size = elements.shape[0]\n",
    "num_elements =elements.shape[1]#batch_size,46,13\n",
    "rects = elements[:,:,-4:]#batch_size,46,4\n",
    "class_ = elements[:,:,:-4]#batch_size,46,9\n",
    "\n",
    "coor_x = torch.arange(64).unsqueeze(1).expand(64,64).T\\\n",
    "        .expand(batch_size,num_elements,64,64).to(device)\n",
    "coor_y = coor_x.transpose(2,3).to(device)\n",
    "\n",
    "x = rects[:,:,0].reshape(batch_size,-1,1,1)*64#batch_size,46,1,1\n",
    "y = rects[:,:,1].reshape(batch_size,-1,1,1)*64\n",
    "area_root = rects[:,:,2].reshape(batch_size,-1,1,1)*64**2\n",
    "w = (area*aspect_ratio)**0.5\n",
    "\n",
    "h = area/w\n",
    "try:\n",
    "    h[h != h] = 0\n",
    "except:\n",
    "    pass\n",
    "\n",
    "x0 = x-0.5*w\n",
    "x1 = x+0.5*w\n",
    "y0 = y-0.5*h\n",
    "y1 = y+0.5*h "
   ]
  },
  {
   "cell_type": "code",
   "execution_count": null,
   "metadata": {
    "scrolled": true
   },
   "outputs": [],
   "source": [
    "h"
   ]
  },
  {
   "cell_type": "code",
   "execution_count": null,
   "metadata": {},
   "outputs": [],
   "source": [
    "# 训练判别器\n",
    "pred_real = discriminator(real_images[0])\n",
    "discriminator_real_loss = real_loss(pred_real, smooth=0.8)#label smoothing\n",
    "\n",
    "fake_images = generator(random_images[0],random_images[1])\n",
    "pred_fake = discriminator(fake_images[0].detach())\n",
    "discriminator_fake_loss = fake_loss(pred_fake, smooth=0.2)#label smoothing\n",
    "\n",
    "discriminator_loss = discriminator_real_loss + discriminator_fake_loss"
   ]
  },
  {
   "cell_type": "code",
   "execution_count": null,
   "metadata": {},
   "outputs": [],
   "source": [
    "discriminator_loss"
   ]
  },
  {
   "cell_type": "code",
   "execution_count": null,
   "metadata": {},
   "outputs": [],
   "source": [
    "discriminator.zero_grad()\n",
    "discriminator_loss.backward()\n",
    "\n",
    "discriminator_optimizer.step()\n",
    "discriminator_scheduler.step()"
   ]
  },
  {
   "cell_type": "code",
   "execution_count": null,
   "metadata": {},
   "outputs": [],
   "source": [
    "D_grads = [(name,weight.grad.mean()) for name, weight in discriminator.named_parameters() if weight.requires_grad]\n",
    "D_grads"
   ]
  },
  {
   "cell_type": "code",
   "execution_count": null,
   "metadata": {},
   "outputs": [],
   "source": [
    "# 训练生成器\n",
    "pred_fake = discriminator(fake_images[0])\n",
    "generator_loss = real_loss(pred_fake, False)\n",
    "pred_fake"
   ]
  },
  {
   "cell_type": "code",
   "execution_count": null,
   "metadata": {},
   "outputs": [],
   "source": [
    "generator_loss"
   ]
  },
  {
   "cell_type": "code",
   "execution_count": null,
   "metadata": {},
   "outputs": [],
   "source": [
    "generator.zero_grad()\n",
    "generator_loss.backward()\n",
    "G_grads = [(name,weight.grad.mean()) for name, weight in generator.named_parameters() if weight.requires_grad]\n",
    "G_grads"
   ]
  },
  {
   "cell_type": "code",
   "execution_count": null,
   "metadata": {},
   "outputs": [],
   "source": [
    "random_images2 = generate_random_layout(real_dataset,batch_size)\n",
    "random_images2 = [torch.tensor(x).to(device) for x in random_images2]\n",
    "fake_images2 = generator(random_images2[0],random_images2[1])\n",
    "pred_fake2 = discriminator(fake_images2[0])\n",
    "generator_loss2 = real_loss(pred_fake2, False)\n",
    "generator_loss2.backward()\n",
    "\n",
    "generator_optimizer.step()\n",
    "generator_scheduler.step()"
   ]
  },
  {
   "cell_type": "code",
   "execution_count": null,
   "metadata": {},
   "outputs": [],
   "source": [
    "render(fake_images[0])[0].shape\n"
   ]
  },
  {
   "cell_type": "code",
   "execution_count": null,
   "metadata": {},
   "outputs": [],
   "source": [
    "pred_fake"
   ]
  },
  {
   "cell_type": "code",
   "execution_count": null,
   "metadata": {},
   "outputs": [],
   "source": [
    "generator.eval()\n",
    "discriminator.eval()\n",
    "calc_images = calc_iter.next()\n",
    "calc_images =[x.to(device) for x in calc_images]\n",
    "fake_images = generate_random_layout(real_dataset,batch_size)\n",
    "fake_images = [torch.tensor(x).to(device) for x in fake_images]\n",
    "generated_images = generator(fake_images[0],fake_images[1])\n",
    "\n",
    "real_pred = discriminator(calc_images[0]).detach().cpu().numpy()\n",
    "fake_pred = discriminator(fake_images[0]).detach().cpu().numpy()\n",
    "generated_pred = discriminator(generated_images[0]).detach().cpu().numpy()"
   ]
  },
  {
   "cell_type": "code",
   "execution_count": null,
   "metadata": {
    "scrolled": true
   },
   "outputs": [],
   "source": [
    "print()\n",
    "get_figure(discriminator.render(calc_images[0][:8])).show()"
   ]
  },
  {
   "cell_type": "code",
   "execution_count": null,
   "metadata": {
    "scrolled": true
   },
   "outputs": [],
   "source": [
    "get_figure(discriminator.render(fake_images[0][:8])).show()"
   ]
  },
  {
   "cell_type": "code",
   "execution_count": null,
   "metadata": {},
   "outputs": [],
   "source": [
    "plt.hist(real_pred,alpha=0.7, density=True,range=(0.,1.),bins=60)\n",
    "plt.show()\n",
    "#real_loss(discriminator_real, False)"
   ]
  },
  {
   "cell_type": "code",
   "execution_count": null,
   "metadata": {},
   "outputs": [],
   "source": [
    "real_loss(torch.tensor([0.5,]))"
   ]
  },
  {
   "cell_type": "code",
   "execution_count": null,
   "metadata": {},
   "outputs": [],
   "source": [
    "plt.hist(fake_pred,alpha=0.7, density=True,range=(0.,1.),bins=60)\n",
    "plt.show()"
   ]
  },
  {
   "cell_type": "code",
   "execution_count": null,
   "metadata": {},
   "outputs": [],
   "source": [
    "fake_loss(torch.tensor(fake_pred))"
   ]
  },
  {
   "cell_type": "code",
   "execution_count": null,
   "metadata": {},
   "outputs": [],
   "source": [
    "plt.hist(generated_pred,alpha=0.7, density=True,range=(0.,1.),bins=60)\n",
    "plt.show()"
   ]
  },
  {
   "cell_type": "code",
   "execution_count": null,
   "metadata": {},
   "outputs": [],
   "source": [
    "x = np.linspace(0,1)\n",
    "y_f= np.array([fake_loss(torch.tensor([d,])).numpy() for d in x])\n",
    "y_r = np.array([real_loss(torch.tensor([d,])).numpy() for d in x])\n",
    "plt.figure()\n",
    "plt.plot(x,y_f)\n",
    "plt.plot(x,y_r)\n",
    "plt.legend(['fake loss','real loss'])"
   ]
  },
  {
   "cell_type": "code",
   "execution_count": null,
   "metadata": {
    "scrolled": true
   },
   "outputs": [],
   "source": [
    "fake_loss(torch.tensor(fake_pred))"
   ]
  },
  {
   "cell_type": "code",
   "execution_count": null,
   "metadata": {},
   "outputs": [],
   "source": [
    "fake_images"
   ]
  },
  {
   "cell_type": "code",
   "execution_count": null,
   "metadata": {},
   "outputs": [],
   "source": [
    "get_figure(discriminator.render(generated_images[0][:8]).detach()).show()"
   ]
  },
  {
   "cell_type": "code",
   "execution_count": null,
   "metadata": {},
   "outputs": [],
   "source": [
    "fake_images[0]"
   ]
  },
  {
   "cell_type": "code",
   "execution_count": null,
   "metadata": {},
   "outputs": [],
   "source": [
    "generated_pred"
   ]
  },
  {
   "cell_type": "code",
   "execution_count": null,
   "metadata": {
    "ExecuteTime": {
     "end_time": "2020-08-26T09:11:11.096007Z",
     "start_time": "2020-08-26T08:13:49.162581Z"
    },
    "scrolled": true
   },
   "outputs": [],
   "source": [
    "writer.close()"
   ]
  },
  {
   "cell_type": "markdown",
   "metadata": {},
   "source": [
    "# metrics"
   ]
  },
  {
   "cell_type": "code",
   "execution_count": null,
   "metadata": {},
   "outputs": [],
   "source": [
    "import models\n",
    "reload(models)\n",
    "from models import Generator, WireframeDiscriminator\n",
    "pkl_name = './params/params_rplan_cuda:0_2020-11-20.pkl'\n",
    "\n",
    "generator = Generator(device=device,n_gpu=1,dataset=real_dataset)\n",
    "discriminator = WireframeDiscriminator(device=device,n_gpu=1,dataset=real_dataset,rendered_size=64)\n",
    "render = discriminator.render\n",
    "\n",
    "# Leaning rate for optimizers\n",
    "learning_rate = 0.00002\n",
    "print('Initialize optimizers.')\n",
    "generator_optimizer = optim.Adam(generator.parameters(), learning_rate)\n",
    "discriminator_optimizer = optim.Adam(discriminator.parameters(), learning_rate/4)\n",
    "\n",
    "if os.path.exists(pkl_name):\n",
    "    checkpoint = torch.load(pkl_name)\n",
    "    generator.load_state_dict(checkpoint['generator_state_dict'])\n",
    "    generator_optimizer.load_state_dict(checkpoint['generator_optimizer_state_dict'])\n",
    "    discriminator.load_state_dict(checkpoint['discriminator_state_dict'])\n",
    "    discriminator_optimizer.load_state_dict(checkpoint['discriminator_optimizer_state_dict'])\n",
    "    epoch_last = checkpoint['epoch']\n",
    "    n_iter = checkpoint['n_iter']\n",
    "    print('load_previous_model')\n",
    "else:\n",
    "    epoch_last = 0\n",
    "    # global step\n",
    "    n_iter = -1\n",
    "    print('create_new_model')"
   ]
  },
  {
   "cell_type": "markdown",
   "metadata": {},
   "source": [
    "### 面积pca"
   ]
  },
  {
   "cell_type": "code",
   "execution_count": null,
   "metadata": {},
   "outputs": [],
   "source": [
    "real_batch = iter(real_dataloader).next()\n",
    "real_batch = [x.to(device) for x in real_batch]\n",
    "real_batch"
   ]
  },
  {
   "cell_type": "code",
   "execution_count": null,
   "metadata": {},
   "outputs": [],
   "source": [
    "get_figure(render(real_batch[0][:8])).show()"
   ]
  },
  {
   "cell_type": "code",
   "execution_count": null,
   "metadata": {},
   "outputs": [],
   "source": [
    "random_batch = generate_random_layout(real_dataset,batch_size)\n",
    "random_batch = [torch.tensor(x).to(device) for x in random_batch]\n",
    "random_batch"
   ]
  },
  {
   "cell_type": "code",
   "execution_count": null,
   "metadata": {},
   "outputs": [],
   "source": [
    "get_figure(render(random_batch[0][:8])).show()"
   ]
  },
  {
   "cell_type": "code",
   "execution_count": null,
   "metadata": {},
   "outputs": [],
   "source": [
    "fake_batch = generator(random_batch[0],random_batch[1])\n",
    "fake_batch"
   ]
  },
  {
   "cell_type": "code",
   "execution_count": null,
   "metadata": {},
   "outputs": [],
   "source": [
    "get_figure(render(fake_batch[0][:8])).show()"
   ]
  },
  {
   "cell_type": "code",
   "execution_count": null,
   "metadata": {},
   "outputs": [],
   "source": [
    "real = real_batch[0][:,:,-2].cpu().numpy()\n",
    "random = random_batch[0][:,:,-2].cpu().numpy()\n",
    "fake = fake_batch[0][:,:,-2].detach().cpu().numpy()\n",
    "real.shape"
   ]
  },
  {
   "cell_type": "code",
   "execution_count": null,
   "metadata": {},
   "outputs": [],
   "source": [
    "real_ = np.array([real_dataset[i][0][:,-2] for i in tqdm(range(len(real_dataset)))])"
   ]
  },
  {
   "cell_type": "code",
   "execution_count": null,
   "metadata": {},
   "outputs": [],
   "source": [
    "import matplotlib.pyplot as plt\n",
    "from mpl_toolkits.mplot3d import Axes3D\n",
    "from sklearn.decomposition import PCA\n",
    "pca = PCA(n_components=3)\n",
    "pca.fit(real_)\n",
    "print(pca.explained_variance_ratio_)\n",
    "print(pca.explained_variance_)"
   ]
  },
  {
   "cell_type": "code",
   "execution_count": null,
   "metadata": {},
   "outputs": [],
   "source": [
    "real_new = pca.transform(real)\n",
    "random_new = pca.transform(random)\n",
    "fake_new = pca.transform(fake)\n",
    "real_new"
   ]
  },
  {
   "cell_type": "code",
   "execution_count": null,
   "metadata": {
    "scrolled": false
   },
   "outputs": [],
   "source": [
    "fig = plt.figure(figsize = (8,8))\n",
    "ax = fig.add_subplot(111, projection='3d')\n",
    "ax.scatter(real_new[:, 0], real_new[:, 1], real_new[:, 2],c='r',marker='o')\n",
    "ax.scatter(random_new[:, 0], random_new[:, 1], random_new[:, 2],c='b',marker='o')\n",
    "ax.scatter(fake_new[:, 0], fake_new[:, 1], fake_new[:, 2],c='g',marker='o')\n",
    "plt.legend(['real','random','fake'])\n",
    "plt.show()"
   ]
  },
  {
   "cell_type": "markdown",
   "metadata": {},
   "source": [
    "### M距离pca"
   ]
  },
  {
   "cell_type": "code",
   "execution_count": null,
   "metadata": {},
   "outputs": [],
   "source": [
    "def get_mdistance(batch):\n",
    "    if len(batch[0].shape)==3:\n",
    "        livingroom = batch[0][:,0:1,-4:-2].detach().cpu().numpy()\n",
    "        otherrooms = batch[0][:,1:,-4:-2].detach().cpu().numpy()\n",
    "    elif len(batch[0].shape)==2:\n",
    "        livingroom = batch[0][0:1,-4:-2]\n",
    "        otherrooms = batch[0][1:,-4:-2]\n",
    "    mdistance = (np.abs(otherrooms-livingroom)).sum(axis=-1)\n",
    "    return mdistance\n",
    "temp = get_mdistance(real_batch)\n",
    "temp.shape"
   ]
  },
  {
   "cell_type": "code",
   "execution_count": null,
   "metadata": {},
   "outputs": [],
   "source": [
    "real = get_mdistance(real_batch)\n",
    "random = get_mdistance(random_batch)\n",
    "fake = get_mdistance(fake_batch)\n",
    "real"
   ]
  },
  {
   "cell_type": "code",
   "execution_count": null,
   "metadata": {},
   "outputs": [],
   "source": [
    "real_ = np.array([get_mdistance(real_dataset[i]) for i in tqdm(range(len(real_dataset)))])"
   ]
  },
  {
   "cell_type": "code",
   "execution_count": null,
   "metadata": {},
   "outputs": [],
   "source": [
    "real_[0]"
   ]
  },
  {
   "cell_type": "code",
   "execution_count": null,
   "metadata": {},
   "outputs": [],
   "source": [
    "pca = PCA(n_components=2)\n",
    "pca.fit(real_)\n",
    "print(pca.explained_variance_ratio_)\n",
    "print(pca.explained_variance_)"
   ]
  },
  {
   "cell_type": "code",
   "execution_count": null,
   "metadata": {},
   "outputs": [],
   "source": [
    "real_new = pca.transform(real)\n",
    "random_new = pca.transform(random)\n",
    "fake_new = pca.transform(fake)"
   ]
  },
  {
   "cell_type": "code",
   "execution_count": null,
   "metadata": {},
   "outputs": [],
   "source": [
    "fig = plt.figure(figsize = (8,8))\n",
    "ax = fig.add_subplot(111, projection='3d')\n",
    "ax.scatter(real_new[:, 0], real_new[:, 1], real_new[:, 2],c='r',marker='o')\n",
    "ax.scatter(random_new[:, 0], random_new[:, 1], random_new[:, 2],c='b',marker='o')\n",
    "ax.scatter(fake_new[:, 0], fake_new[:, 1], fake_new[:, 2],c='g',marker='o')\n",
    "plt.legend(['real','random','fake'])\n",
    "plt.show()"
   ]
  },
  {
   "cell_type": "code",
   "execution_count": null,
   "metadata": {},
   "outputs": [],
   "source": [
    "fig = plt.figure(figsize = (8,8))\n",
    "ax = fig.add_subplot(111)\n",
    "ax.scatter(real_new[:, 0], real_new[:, 1],c='r',marker='o')\n",
    "ax.scatter(random_new[:, 0], random_new[:, 1],c='b',marker='o')\n",
    "ax.scatter(fake_new[:, 0], fake_new[:, 1],c='g',marker='o')\n",
    "plt.legend(['real','random','fake'])\n",
    "plt.show()"
   ]
  },
  {
   "cell_type": "markdown",
   "metadata": {},
   "source": [
    "### 直观可视化"
   ]
  },
  {
   "cell_type": "code",
   "execution_count": null,
   "metadata": {},
   "outputs": [],
   "source": [
    "real_dataset.dict_room_encode"
   ]
  },
  {
   "cell_type": "code",
   "execution_count": null,
   "metadata": {},
   "outputs": [],
   "source": [
    "rooms"
   ]
  },
  {
   "cell_type": "code",
   "execution_count": null,
   "metadata": {
    "scrolled": false
   },
   "outputs": [],
   "source": [
    "real_batch"
   ]
  },
  {
   "cell_type": "markdown",
   "metadata": {},
   "source": [
    "## 检查generator forward passing"
   ]
  },
  {
   "cell_type": "code",
   "execution_count": null,
   "metadata": {
    "scrolled": true
   },
   "outputs": [],
   "source": [
    "loaded=fixed_z\n",
    "draw_table(loaded[0][0]).show()"
   ]
  },
  {
   "cell_type": "code",
   "execution_count": null,
   "metadata": {},
   "outputs": [],
   "source": [
    "fig_fake = get_figure(discriminator.render(loaded[0]).detach())\n",
    "fig_fake.show()"
   ]
  },
  {
   "cell_type": "code",
   "execution_count": null,
   "metadata": {},
   "outputs": [],
   "source": [
    "generated = generator(loaded[0],loaded[1])\n",
    "draw_table(generated[0][1]).show()"
   ]
  },
  {
   "cell_type": "code",
   "execution_count": null,
   "metadata": {},
   "outputs": [],
   "source": [
    "fig_fake = get_figure(discriminator.render(generated[0]).detach())\n",
    "fig_fake.show()"
   ]
  },
  {
   "cell_type": "code",
   "execution_count": null,
   "metadata": {},
   "outputs": [],
   "source": [
    "rendered = discriminator.render(generated[0]).detach()\n",
    "draw_table(rendered[1,0,:20,:20]).show()"
   ]
  },
  {
   "cell_type": "code",
   "execution_count": null,
   "metadata": {},
   "outputs": [],
   "source": [
    "real_images[0][0,:,-4:]\n"
   ]
  },
  {
   "cell_type": "code",
   "execution_count": null,
   "metadata": {},
   "outputs": [],
   "source": [
    "rendered = discriminator.render(real_images[0][:8]).detach()\n",
    "draw_table(rendered[1,0,:20,:20]).show()"
   ]
  },
  {
   "cell_type": "code",
   "execution_count": null,
   "metadata": {},
   "outputs": [],
   "source": [
    "input_ = torch.arange(0,24,1.0).reshape(2,3,4)\n",
    "input_"
   ]
  },
  {
   "cell_type": "code",
   "execution_count": null,
   "metadata": {},
   "outputs": [],
   "source": [
    "input_.permute(0,2,1).reshape(8,3)"
   ]
  },
  {
   "cell_type": "code",
   "execution_count": null,
   "metadata": {},
   "outputs": [],
   "source": [
    "N, C, H, W = 2,3,5,10\n",
    "f_k = input_.reshape([N, C, H*W]).permute(0, 2, 1)#[2,50,3]\n",
    "f_q = input_.reshape([N, C, H*W])#[2,3,50]\n",
    "w = torch.matmul(f_k, f_q)/(H*W)#[2, 50, 50]"
   ]
  },
  {
   "cell_type": "code",
   "execution_count": null,
   "metadata": {},
   "outputs": [],
   "source": [
    "f_r2 = torch.matmul(input_.reshape([N, C, H*W]),w)\n",
    "f_r = torch.matmul(w.permute(0, 2, 1),input_.reshape([N, C, H*W]).permute(0, 2, 1)).permute(0, 2, 1)"
   ]
  },
  {
   "cell_type": "code",
   "execution_count": null,
   "metadata": {},
   "outputs": [],
   "source": [
    "t = torch.arange(12).reshape(3,4)\n",
    "t2 = t.transpose(0,1)"
   ]
  },
  {
   "cell_type": "code",
   "execution_count": null,
   "metadata": {},
   "outputs": [],
   "source": [
    "t.data_ptr()"
   ]
  },
  {
   "cell_type": "code",
   "execution_count": null,
   "metadata": {},
   "outputs": [],
   "source": [
    "t2.data_ptr()"
   ]
  },
  {
   "cell_type": "code",
   "execution_count": null,
   "metadata": {},
   "outputs": [],
   "source": [
    "f_r.shape"
   ]
  },
  {
   "cell_type": "code",
   "execution_count": null,
   "metadata": {},
   "outputs": [],
   "source": [
    "f_r = f_r.permute(0,2,1)\n",
    "f_r.shape"
   ]
  },
  {
   "cell_type": "code",
   "execution_count": null,
   "metadata": {
    "scrolled": true
   },
   "outputs": [],
   "source": [
    "f_r.stride()"
   ]
  },
  {
   "cell_type": "code",
   "execution_count": null,
   "metadata": {},
   "outputs": [],
   "source": [
    "f_r = f_r.permute(0,2,1)\n",
    "f_r.shape"
   ]
  },
  {
   "cell_type": "code",
   "execution_count": null,
   "metadata": {},
   "outputs": [],
   "source": [
    "f_r.stride()"
   ]
  },
  {
   "cell_type": "code",
   "execution_count": null,
   "metadata": {},
   "outputs": [],
   "source": [
    "f_r = f_r.reshape(N,C,H,W)\n",
    "f_r2 = f_r2.reshape(N,C,H,W)"
   ]
  },
  {
   "cell_type": "code",
   "execution_count": null,
   "metadata": {},
   "outputs": [],
   "source": [
    "f_r-f_r2"
   ]
  },
  {
   "cell_type": "code",
   "execution_count": null,
   "metadata": {},
   "outputs": [],
   "source": [
    "torch.matmul(input_.reshape(2,3,50).permute(0,2,1), input_.reshape(2,3,50)).shape"
   ]
  },
  {
   "cell_type": "code",
   "execution_count": null,
   "metadata": {
    "scrolled": true
   },
   "outputs": [],
   "source": [
    "fake_rectangles = generate_fake_dicts_rect(len(rectangles.keys()),mu, sigma, mean, cov, rect_types)\n",
    "fake_dataset = wireframeDataset(fake_rectangles,maximum_elements_num,dict_room_encode)\n",
    "fake_dataloader = DataLoader(fake_dataset,batch_size,shuffle=False,num_workers=0)\n",
    "fake_images = iter(fake_dataloader).next()\n",
    "fake_images = [x.to(device).detach() for x in fake_images]\n",
    "fake_images"
   ]
  },
  {
   "cell_type": "code",
   "execution_count": null,
   "metadata": {},
   "outputs": [],
   "source": [
    "fig= get_figure(discriminator.render(loaded[0]))\n",
    "fig.show()"
   ]
  },
  {
   "cell_type": "code",
   "execution_count": null,
   "metadata": {
    "scrolled": true
   },
   "outputs": [],
   "source": [
    "input_data = [0]\n",
    "input_length = fake_images[1]\n",
    "generated = generator(input_data,input_length)\n",
    "generated"
   ]
  },
  {
   "cell_type": "code",
   "execution_count": null,
   "metadata": {},
   "outputs": [],
   "source": [
    "generated[0].contiguous()"
   ]
  },
  {
   "cell_type": "code",
   "execution_count": null,
   "metadata": {},
   "outputs": [],
   "source": [
    "pd.DataFrame(generated[0][0].cpu().detach().numpy()).to_csv('generated.csv')"
   ]
  },
  {
   "cell_type": "code",
   "execution_count": null,
   "metadata": {},
   "outputs": [],
   "source": [
    "fig= get_figure(discriminator.render(generated[0]))\n",
    "fig.show()"
   ]
  },
  {
   "cell_type": "code",
   "execution_count": null,
   "metadata": {},
   "outputs": [],
   "source": [
    "input_data = fake_images[0]\n",
    "input_length = fake_images[1]\n",
    "title=['xc','w','yc','h']\n",
    "plt.figure(figsize=(15,10))\n",
    "for i in range(4):\n",
    "    plt.subplot(2,2,i+1)\n",
    "    plt.hist(input_data[:,:,-4+i].detach().cpu().numpy().flatten(), 30,density=1, alpha=0.75) \n",
    "    plt.title(title[i])\n",
    "plt.show()"
   ]
  },
  {
   "cell_type": "code",
   "execution_count": null,
   "metadata": {},
   "outputs": [],
   "source": [
    "out = F.relu(generator.encoder_fc1(fake_images[0]))\n",
    "print(out.shape)\n",
    "plt.hist(out.detach().flatten().cpu().numpy(),bins=30)"
   ]
  },
  {
   "cell_type": "code",
   "execution_count": null,
   "metadata": {},
   "outputs": [],
   "source": [
    "out = F.relu(generator.encoder_fc2(out))\n",
    "print(out.shape)\n",
    "plt.hist(out.detach().flatten().cpu().numpy(),bins=30)"
   ]
  },
  {
   "cell_type": "code",
   "execution_count": null,
   "metadata": {},
   "outputs": [],
   "source": [
    "out"
   ]
  },
  {
   "cell_type": "code",
   "execution_count": null,
   "metadata": {},
   "outputs": [],
   "source": [
    "encoded = torch.sigmoid(generator.encoder_fc3(out))\n",
    "print(encoded.shape)\n",
    "plt.hist(encoded.detach().flatten().cpu().numpy(),bins=30)"
   ]
  },
  {
   "cell_type": "code",
   "execution_count": null,
   "metadata": {},
   "outputs": [],
   "source": [
    "encoded"
   ]
  },
  {
   "cell_type": "code",
   "execution_count": null,
   "metadata": {},
   "outputs": [],
   "source": [
    "relation_residual_1 = models.relation_module(encoded, generator.device, generator.relation1_unary, generator.relation1_psi,\n",
    "                                              generator.relation1_phi, generator.relation1_wr,input_length)\n",
    "print(relation_residual_1.shape)\n",
    "plt.hist(relation_residual_1.detach().flatten().cpu().numpy())        "
   ]
  },
  {
   "cell_type": "code",
   "execution_count": null,
   "metadata": {},
   "outputs": [],
   "source": [
    "relation_residual_2 = models.relation_module(relation_residual_1, generator.device, generator.relation2_unary, generator.relation2_psi,\n",
    "                                              generator.relation2_phi, generator.relation2_wr,input_length)\n",
    "print(relation_residual_2.shape)\n",
    "plt.hist(relation_residual_2.detach().flatten().cpu().numpy())     "
   ]
  },
  {
   "cell_type": "code",
   "execution_count": null,
   "metadata": {},
   "outputs": [],
   "source": [
    "out = F.relu(generator.decoder_fc1(relation_residual_2))\n",
    "print(out.shape)\n",
    "plt.hist(out.detach().flatten().cpu().numpy())"
   ]
  },
  {
   "cell_type": "code",
   "execution_count": null,
   "metadata": {},
   "outputs": [],
   "source": [
    "out = F.relu(generator.decoder_fc2(out))\n",
    "print(out.shape)\n",
    "plt.hist(out.detach().flatten().cpu().numpy())"
   ]
  },
  {
   "cell_type": "code",
   "execution_count": null,
   "metadata": {},
   "outputs": [],
   "source": [
    "out"
   ]
  },
  {
   "cell_type": "code",
   "execution_count": null,
   "metadata": {},
   "outputs": [],
   "source": [
    "syn_cls = generator.sigmoid_brach1(generator.branch_fc1(out))\n",
    "syn_geo = generator.sigmoid_brach2(generator.branch_fc2(out))"
   ]
  },
  {
   "cell_type": "code",
   "execution_count": null,
   "metadata": {},
   "outputs": [],
   "source": [
    "syn_geo"
   ]
  },
  {
   "cell_type": "code",
   "execution_count": null,
   "metadata": {
    "scrolled": true
   },
   "outputs": [],
   "source": [
    "# Synthesized layout\n",
    "res = torch.cat((syn_cls, syn_geo), 2)\n",
    "batch_size, maximum_elements_num, feature_size = input_data.shape\n",
    "mask_l = [torch.cat([torch.ones(l,feature_size),torch.zeros(maximum_elements_num-l,feature_size)]) for l in input_length.cpu().numpy()]\n",
    "mask = torch.stack(mask_l)\n",
    "mask = mask.to(generator.device)\n",
    "res = res.mul(mask)\n",
    "print(res.shape)\n",
    "plt.hist(res.detach().flatten().cpu().numpy(),bins=200)"
   ]
  },
  {
   "cell_type": "code",
   "execution_count": null,
   "metadata": {},
   "outputs": [],
   "source": [
    "discriminator.eval()\n",
    "fig= get_figure(discriminator.render(fake_images[0]))\n",
    "fig.show()"
   ]
  },
  {
   "cell_type": "code",
   "execution_count": null,
   "metadata": {},
   "outputs": [],
   "source": [
    "generator.train()\n",
    "fake_images2 = generator(fake_images)\n",
    "fake_images2"
   ]
  },
  {
   "cell_type": "code",
   "execution_count": null,
   "metadata": {
    "scrolled": true
   },
   "outputs": [],
   "source": [
    "fig= get_figure(discriminator.render(fake_images2[0]))\n",
    "fig.show()"
   ]
  },
  {
   "cell_type": "code",
   "execution_count": null,
   "metadata": {},
   "outputs": [],
   "source": [
    "torch.mm(torch.Tensor(52,1).t(),torch.Tensor(52,1))"
   ]
  },
  {
   "cell_type": "markdown",
   "metadata": {},
   "source": [
    "## 检查discriminator forward passing"
   ]
  },
  {
   "cell_type": "code",
   "execution_count": null,
   "metadata": {
    "scrolled": true
   },
   "outputs": [],
   "source": [
    "real_images = iter(real_dataloader).next()\n",
    "real_images = [x.to(device) for x in real_images]\n",
    "real_images"
   ]
  },
  {
   "cell_type": "code",
   "execution_count": null,
   "metadata": {},
   "outputs": [],
   "source": [
    "rendered = discriminator.render(real_images[0][:8])\n",
    "get_figure(rendered).show()"
   ]
  },
  {
   "cell_type": "code",
   "execution_count": null,
   "metadata": {},
   "outputs": [],
   "source": [
    "rendered.shape"
   ]
  },
  {
   "cell_type": "code",
   "execution_count": null,
   "metadata": {},
   "outputs": [],
   "source": [
    "cnn = nn.Sequential(\n",
    "            nn.Conv2d(10,64,kernel_size=5,stride=2,padding=2,bias=False),#padding=2,same\n",
    "            nn.BatchNorm2d(64),\n",
    "            nn.LeakyReLU(inplace=True),#32, rendered_size/2, rendered_size/2\n",
    "\n",
    "            nn.Conv2d(64,128,kernel_size=5,stride=2,padding=2,bias=False),\n",
    "            nn.BatchNorm2d(128),\n",
    "            nn.LeakyReLU(inplace=True),#64, rendered_size/4, rendered_size/4\n",
    "\n",
    "            nn.Conv2d(128,256,kernel_size=5,stride=2,padding=2,bias=False),\n",
    "            nn.BatchNorm2d(256),\n",
    "            nn.LeakyReLU(inplace=True),#128, rendered_size/8, rendered_size/8\n",
    "        ).to(device)\n"
   ]
  },
  {
   "cell_type": "code",
   "execution_count": null,
   "metadata": {},
   "outputs": [],
   "source": [
    "cnn(rendered)"
   ]
  },
  {
   "cell_type": "code",
   "execution_count": null,
   "metadata": {},
   "outputs": [],
   "source": [
    "discriminator(real_images[0])"
   ]
  },
  {
   "cell_type": "code",
   "execution_count": null,
   "metadata": {},
   "outputs": [],
   "source": [
    "cnned = discriminator.cnn(rendered)\n",
    "cnned = cnned.squeeze()\n",
    "print(cnned.shape)\n",
    "fig = plt.figure(figsize=(5,30))\n",
    "for b in range(batch_size):\n",
    "    ax = fig.add_subplot(batch_size,1,b+1) \n",
    "    ax.hist(cnned.detach().cpu().numpy()[b],bins = 60)\n",
    "    ax.set_ylim([0,50])\n",
    "fig.show()"
   ]
  },
  {
   "cell_type": "markdown",
   "metadata": {},
   "source": [
    "# test"
   ]
  },
  {
   "cell_type": "code",
   "execution_count": null,
   "metadata": {
    "ExecuteTime": {
     "end_time": "2020-08-23T08:37:23.864698Z",
     "start_time": "2020-08-23T08:37:22.730853Z"
    }
   },
   "outputs": [],
   "source": [
    "fake_rectangles = generate_fake_dicts_rect(len(rectangles.keys()),mu, sigma, mean, cov, rect_types)\n",
    "fake_dataset = wireframeDataset(fake_rectangles,maximum_elements_num,dict_room_encode)\n",
    "fake_dataloader = DataLoader(fake_dataset,batch_size,shuffle=False,num_workers=0)\n",
    "batch = iter(fake_dataloader).next()\n",
    "batch_fake = [x.to(device) for x in batch]\n",
    "batch_fake"
   ]
  },
  {
   "cell_type": "code",
   "execution_count": null,
   "metadata": {},
   "outputs": [],
   "source": [
    "batch = iter(real_dataloader).next()\n",
    "batch_real = [x.to(device) for x in batch]\n",
    "discriminator.eval()\n",
    "render_real = discriminator.render(batch_real[0])\n",
    "render_real.shape"
   ]
  },
  {
   "cell_type": "code",
   "execution_count": null,
   "metadata": {},
   "outputs": [],
   "source": [
    "batch_real[0].shape"
   ]
  },
  {
   "cell_type": "code",
   "execution_count": null,
   "metadata": {},
   "outputs": [],
   "source": [
    "discriminator.eval()\n",
    "rendered = discriminator.render(batch_fake[0])\n",
    "batch_size = rendered.shape[0]\n",
    "batch_size"
   ]
  },
  {
   "cell_type": "code",
   "execution_count": null,
   "metadata": {},
   "outputs": [],
   "source": [
    "fig = plt.figure(figsize=(18,32))\n",
    "fig.show()"
   ]
  },
  {
   "cell_type": "code",
   "execution_count": null,
   "metadata": {},
   "outputs": [],
   "source": [
    "plt.figure(figsize=(18,32))\n",
    "for i in range(batch_size):\n",
    "    for j in range(9):\n",
    "        num = i*9+j+1\n",
    "        plt.subplot(batch_size,9,num)\n",
    "        plt.imshow(random[i,j,:,:].detach().cpu().numpy(),cmap='gray')\n",
    "        ax = plt.gca()\n",
    "        ax.axes.xaxis.set_visible(False)\n",
    "        ax.axes.yaxis.set_visible(False)\n",
    "        if i == 0:\n",
    "            ax.set_title(list(dict_room_encode.keys())[j])\n",
    "plt.subplots_adjust(wspace =0.1, hspace =0.1)\n",
    "plt.show()"
   ]
  },
  {
   "cell_type": "code",
   "execution_count": null,
   "metadata": {},
   "outputs": [],
   "source": [
    "#生成图像\n",
    "generated = discriminator.render(batch_cuda[0])[0]\n",
    "#plt.figure(figsize=(15,15))\n",
    "for i in range(9):\n",
    "    plt.figure(figsize=(5,5))\n",
    "    #plt.subplot(3,3,i+1)\n",
    "    plt.imshow(generated[i].detach().cpu().numpy(),cmap='gray')\n",
    "    plt.title(list(dict_room_encode.keys())[i])\n",
    "    plt.axis('off')\n",
    "    plt.savefig('{}.png'.format(str(i)))\n",
    "plt.show()"
   ]
  },
  {
   "cell_type": "code",
   "execution_count": null,
   "metadata": {},
   "outputs": [],
   "source": [
    "generator(batch_cuda)[0]"
   ]
  },
  {
   "cell_type": "code",
   "execution_count": null,
   "metadata": {},
   "outputs": [],
   "source": [
    "for param in generator.named_parameters():\n",
    "    print(param[1].data)"
   ]
  }
 ],
 "metadata": {
  "kernelspec": {
   "display_name": "Python [conda env:py36-luozn]",
   "language": "python",
   "name": "conda-env-py36-luozn-py"
  },
  "language_info": {
   "codemirror_mode": {
    "name": "ipython",
    "version": 3
   },
   "file_extension": ".py",
   "mimetype": "text/x-python",
   "name": "python",
   "nbconvert_exporter": "python",
   "pygments_lexer": "ipython3",
   "version": "3.6.10"
  },
  "toc": {
   "base_numbering": 1,
   "nav_menu": {},
   "number_sections": true,
   "sideBar": true,
   "skip_h1_title": false,
   "title_cell": "Table of Contents",
   "title_sidebar": "Contents",
   "toc_cell": false,
   "toc_position": {},
   "toc_section_display": true,
   "toc_window_display": false
  },
  "varInspector": {
   "cols": {
    "lenName": 16,
    "lenType": 16,
    "lenVar": 40
   },
   "kernels_config": {
    "python": {
     "delete_cmd_postfix": "",
     "delete_cmd_prefix": "del ",
     "library": "var_list.py",
     "varRefreshCmd": "print(var_dic_list())"
    },
    "r": {
     "delete_cmd_postfix": ") ",
     "delete_cmd_prefix": "rm(",
     "library": "var_list.r",
     "varRefreshCmd": "cat(var_dic_list()) "
    }
   },
   "types_to_exclude": [
    "module",
    "function",
    "builtin_function_or_method",
    "instance",
    "_Feature"
   ],
   "window_display": false
  }
 },
 "nbformat": 4,
 "nbformat_minor": 2
}
